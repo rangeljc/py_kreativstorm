{
 "cells": [
  {
   "cell_type": "code",
   "execution_count": null,
   "id": "4466998f",
   "metadata": {},
   "outputs": [],
   "source": []
  },
  {
   "cell_type": "code",
   "execution_count": null,
   "id": "eb847150",
   "metadata": {},
   "outputs": [],
   "source": []
  },
  {
   "cell_type": "code",
   "execution_count": 29,
   "id": "7effab5c",
   "metadata": {},
   "outputs": [
    {
     "name": "stdout",
     "output_type": "stream",
     "text": [
      "[1, 5, 7, 9, 11, 13, 16, 17, 19, 232792560]\n",
      "{'base': [2, 3, 5, 7, 11, 13, 17, 19], 'expoente': [4, 2, 1, 1, 1, 1, 1, 1]}\n"
     ]
    }
   ],
   "source": [
    "from math import sqrt\n",
    "\n",
    "n = 232792560\n",
    "multiplos = [1, n]\n",
    "#raiz_n = int(sqrt(n))\n",
    "dicio = {'base': [],\n",
    "        'expoente': []}\n",
    "\n",
    "if (n%2 == 0):\n",
    "    x = 0\n",
    "    while (n%2 == 0):\n",
    "        x += 1\n",
    "        n = n/2\n",
    "    multiplos.append(2**x)\n",
    "    dicio['base'].append(2)\n",
    "    dicio['expoente'].append(x)\n",
    "\n",
    "i = 3\n",
    "\n",
    "while n != 1:\n",
    "    if (n%i == 0):\n",
    "        m = i\n",
    "        x = 0\n",
    "        while (n%i == 0):\n",
    "            x += 1\n",
    "            n = n/i\n",
    "        multiplos.append(m**x)\n",
    "        dicio['base'].append(i)\n",
    "        dicio['expoente'].append(x)\n",
    "    i += 2\n",
    "    \n",
    "multiplos.sort()\n",
    "print(multiplos)\n",
    "print(dicio)"
   ]
  },
  {
   "cell_type": "code",
   "execution_count": 39,
   "id": "e239a3f3",
   "metadata": {},
   "outputs": [
    {
     "name": "stdout",
     "output_type": "stream",
     "text": [
      "[1, 2, 3, 4, 5, 6, 7, 8, 9, 10, 12, 14, 15, 16, 18, 20, 21, 24, 28, 30, 35, 36, 40, 42, 45, 48, 56, 60, 63, 70, 72, 80, 84, 90, 105, 112, 120, 126, 140, 144, 168, 180, 210, 240, 252, 280, 315, 336, 360, 420, 504, 560, 630, 720, 840, 1008, 1260, 1680, 5040] 59\n"
     ]
    }
   ],
   "source": [
    "n = 5040 #210\n",
    "multi = [n]\n",
    "\n",
    "for i in range(1, int(n//2)):\n",
    "    if n%i == 0:\n",
    "        multi.append(i)\n",
    "\n",
    "multi.sort()\n",
    "print(multi, len(multi))"
   ]
  },
  {
   "cell_type": "code",
   "execution_count": 37,
   "id": "bf26333a",
   "metadata": {},
   "outputs": [
    {
     "data": {
      "text/plain": [
       "210"
      ]
     },
     "execution_count": 37,
     "metadata": {},
     "output_type": "execute_result"
    }
   ],
   "source": [
    "2*3*5*7"
   ]
  },
  {
   "cell_type": "code",
   "execution_count": 36,
   "id": "58ca15a5",
   "metadata": {},
   "outputs": [
    {
     "data": {
      "text/plain": [
       "1680"
      ]
     },
     "execution_count": 36,
     "metadata": {},
     "output_type": "execute_result"
    }
   ],
   "source": []
  },
  {
   "cell_type": "code",
   "execution_count": null,
   "id": "5e0bbf36",
   "metadata": {},
   "outputs": [],
   "source": []
  }
 ],
 "metadata": {
  "kernelspec": {
   "display_name": "Python 3 (ipykernel)",
   "language": "python",
   "name": "python3"
  },
  "language_info": {
   "codemirror_mode": {
    "name": "ipython",
    "version": 3
   },
   "file_extension": ".py",
   "mimetype": "text/x-python",
   "name": "python",
   "nbconvert_exporter": "python",
   "pygments_lexer": "ipython3",
   "version": "3.11.4"
  }
 },
 "nbformat": 4,
 "nbformat_minor": 5
}
