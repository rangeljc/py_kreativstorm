{
 "cells": [
  {
   "cell_type": "markdown",
   "metadata": {},
   "source": [
    "1. Write a program that prompts the user for a string and checks whether the string is a palindrome (i.e., the string reads the same forward and backward)."
   ]
  },
  {
   "cell_type": "code",
   "execution_count": null,
   "metadata": {},
   "outputs": [],
   "source": [
    "f_word = input('Enter a word: ')\n",
    "b_word = ''.join(reversed(f_word))\n",
    "\n",
    "if f_word.lower().replace(' ','') == b_word.lower().replace(' ',''):\n",
    "    print(f'Yeah! {f_word} is a palindrome!')\n",
    "\n",
    "else:\n",
    "    print(f'No, no, no! {f_word} is not a palindrome!')\n",
    "    print(f'{f_word} is different of {b_word}')"
   ]
  },
  {
   "cell_type": "markdown",
   "metadata": {},
   "source": [
    "2. Write a program that takes in a list of integers and returns the sum of all even numbers in the list."
   ]
  },
  {
   "cell_type": "code",
   "execution_count": null,
   "metadata": {},
   "outputs": [],
   "source": [
    "nmb_list = input('Enter a number list: ').replace(',','').split()\n",
    "even_sum = 0\n",
    "\n",
    "for nmb in nmb_list:\n",
    "    if int(nmb)%2 == 0:\n",
    "        even_sum += int(nmb)\n",
    "\n",
    "print(even_sum)"
   ]
  },
  {
   "cell_type": "markdown",
   "metadata": {},
   "source": [
    "3. Write a program that prompts the user for their age and checks whether they are old enough to vote (i.e., 18 years old or older)."
   ]
  },
  {
   "cell_type": "code",
   "execution_count": null,
   "metadata": {},
   "outputs": [],
   "source": [
    "while True:\n",
    "    try:\n",
    "        age = int(input('How old are you: '))\n",
    "\n",
    "    except ValueError:\n",
    "        print('Ok, look, the value should be numeric')\n",
    "        print('Please, try again!')\n",
    "\n",
    "    else:\n",
    "        if (age >= 18):\n",
    "            print('Yeah! You are old enough to vote!')\n",
    "        else:\n",
    "            print('Oh, sorry! You are not old enough to vote!')\n",
    "            \n",
    "        break"
   ]
  },
  {
   "cell_type": "markdown",
   "metadata": {},
   "source": [
    "4. Write a program that takes in a list of integers and returns the largest number in the list that is also divisible by 3."
   ]
  },
  {
   "cell_type": "code",
   "execution_count": null,
   "metadata": {},
   "outputs": [],
   "source": [
    "nmb_list = input('Enter a number list: ').replace(',','').split()\n",
    "our_nmb = 0\n",
    "\n",
    "for nmb in nmb_list:\n",
    "    nmb = int(nmb)\n",
    "    if (nmb % 3) == 0:\n",
    "        if nmb > our_nmb:\n",
    "            our_nmb = nmb\n",
    "            \n",
    "print(f'The largest number in the list that is also divisible by 3 is: {our_nmb}')"
   ]
  },
  {
   "cell_type": "markdown",
   "metadata": {},
   "source": [
    "5. Write a program that prompts the user for a number and checks whether the number is a prime number (i.e., only divisible by 1 and itself)."
   ]
  },
  {
   "cell_type": "code",
   "execution_count": null,
   "metadata": {},
   "outputs": [],
   "source": [
    "nmb = int(input('Enter a number to know if it is a prime number: '))\n",
    "\n",
    "if nmb <= 1:\n",
    "    print(\"Prime numbers should be greater than 1.\")\n",
    "    \n",
    "else:\n",
    "    prime = True\n",
    "    for n in range(2, nmb):   \n",
    "        if (nmb % n) == 0:\n",
    "            prime = False\n",
    "            break\n",
    "    \n",
    "    if prime:\n",
    "        print(nmb, \"is a prime number\")\n",
    "        \n",
    "    else:\n",
    "        print(nmb, \"is not a prime number\")"
   ]
  }
 ],
 "metadata": {
  "kernelspec": {
   "display_name": "Python 3 (ipykernel)",
   "language": "python",
   "name": "python3"
  },
  "language_info": {
   "codemirror_mode": {
    "name": "ipython",
    "version": 3
   },
   "file_extension": ".py",
   "mimetype": "text/x-python",
   "name": "python",
   "nbconvert_exporter": "python",
   "pygments_lexer": "ipython3",
   "version": "3.9.13"
  },
  "vscode": {
   "interpreter": {
    "hash": "f7a5be651532581cb44625d52e18aa1d390cab54bc6b51099d8c30bea9b68219"
   }
  }
 },
 "nbformat": 4,
 "nbformat_minor": 2
}
