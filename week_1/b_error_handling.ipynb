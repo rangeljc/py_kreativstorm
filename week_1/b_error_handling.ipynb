{
 "cells": [
  {
   "cell_type": "markdown",
   "metadata": {},
   "source": [
    "1. Write a function that takes a list of integers as an argument, and returns the sum of the integers. Use a try-except block to catch any ValueError exceptions that may be raised when attempting to convert a string to an integer."
   ]
  },
  {
   "cell_type": "code",
   "execution_count": null,
   "metadata": {},
   "outputs": [],
   "source": [
    "def take_list():\n",
    "    numbers = input('Enter a list of numbers to sum: ').replace(',','').split()\n",
    "    list_sum(numbers)\n",
    "\n",
    "def list_sum(nmb_list):\n",
    "    try:\n",
    "        nmb_list = [int(n) for n in nmb_list]\n",
    "        \n",
    "    except ValueError:\n",
    "        print('All elements of the list should be decimal integers')\n",
    "        print('Please, try again!')\n",
    "        take_list()\n",
    "    \n",
    "    else:\n",
    "        print(sum(nmb_list))\n",
    "\n",
    "take_list()"
   ]
  },
  {
   "cell_type": "markdown",
   "metadata": {},
   "source": [
    "2. Write a function that takes a filename as an argument, and attempts to open the file. Use a try-except block to catch any FileNotFoundError exceptions that may be raised when attempting to open the file. If the file is successfully opened, the function should return the contents of the file."
   ]
  },
  {
   "cell_type": "code",
   "execution_count": null,
   "metadata": {},
   "outputs": [],
   "source": [
    "def take_file():\n",
    "    filename = input('Enter a file name: ').strip()\n",
    "    \n",
    "    if filename == 'exit':\n",
    "        return\n",
    "    \n",
    "    open_file(filename)\n",
    "\n",
    "def open_file(filename):\n",
    "    try:\n",
    "        file = open(filename, 'r')\n",
    "        \n",
    "    except FileNotFoundError:\n",
    "        print('Oh, sorry! The file was not found!')\n",
    "        print('Please, try again!')\n",
    "        take_file()\n",
    "    \n",
    "    else:\n",
    "        print(file.read())\n",
    "\n",
    "take_file()"
   ]
  },
  {
   "cell_type": "markdown",
   "metadata": {},
   "source": [
    "3. Write a function that takes a list of strings as an argument, and returns a new list containing only the strings that can be successfully converted to a float. Use a try-except block to catch any ValueError exceptions that may be raised when attempting to convert a string to a float."
   ]
  },
  {
   "cell_type": "code",
   "execution_count": null,
   "metadata": {},
   "outputs": [],
   "source": [
    "def take_list():\n",
    "    str_list = input('Enter a string list: ').split()\n",
    "    str_to_float(str_list)\n",
    "\n",
    "def str_to_float(str_list):\n",
    "    float_list = []\n",
    "    x = 0\n",
    "    for item in str_list:\n",
    "        try:\n",
    "            float_list.append(float(item))\n",
    "        \n",
    "        except ValueError:\n",
    "            x += 1\n",
    "    \n",
    "    if x == len(str_list):\n",
    "        print('There are not any float in the string')\n",
    "            \n",
    "    else:\n",
    "        print(f'We found {len(str_list)-x} float numbers in the list! see them below:')\n",
    "        print(float_list)\n",
    "\n",
    "take_list()"
   ]
  },
  {
   "cell_type": "markdown",
   "metadata": {},
   "source": [
    "4. Write a function that takes a list of dictionaries as an argument, and returns the value of a specified key from each dictionary. Use a try-except block to catch any KeyError exceptions that may be raised when attempting to access a key that does not exist in a dictionary."
   ]
  },
  {
   "cell_type": "code",
   "execution_count": null,
   "metadata": {},
   "outputs": [],
   "source": [
    "def key_value(dict_list, key):\n",
    "    x = 0\n",
    "    for item in dict_list:\n",
    "        try:\n",
    "            print(item[key])\n",
    "        \n",
    "        except KeyError:\n",
    "            x += 1\n",
    "    \n",
    "    if x == len(dict_list):\n",
    "        print(f'The key \"{key}\" does not exist')\n",
    "            \n",
    "    elif x > 0:\n",
    "        print(f'{x} items do not have the key \"{key}\"')\n",
    "\n",
    "\n",
    "dict_list = [{'name': 'Julio',\n",
    "             'age': 40,\n",
    "             'occupation': 'Electrical Engineer'},\n",
    "            {'name': 'Leandra',\n",
    "             'age': 39,\n",
    "             'occupation': 'Makeup Artist'},\n",
    "            {'name': 'Asafe',\n",
    "             'age': 13,\n",
    "             'occupation': 'Student'},\n",
    "            {'name': 'Joabe',\n",
    "             'age': 12,\n",
    "             'occupation': 'Student'}]\n",
    "\n",
    "key = input('Enter the key you want: ')\n",
    "\n",
    "key_value(dict_list, key)"
   ]
  },
  {
   "cell_type": "markdown",
   "metadata": {},
   "source": [
    "5. Write a function that takes a list of integers as an argument, and returns the largest integer in the list. Use a try-except block to catch any ValueError exceptions that may be raised when attempting to compare elements that are not integers."
   ]
  },
  {
   "cell_type": "code",
   "execution_count": null,
   "metadata": {},
   "outputs": [],
   "source": [
    "def take_list():\n",
    "    nmb_list = input('Enter a list of numbers: ')\n",
    "    if nmb_list == 'exit':\n",
    "        return\n",
    "    largest_nmb(nmb_list.split())\n",
    "\n",
    "def largest_nmb(numbers):\n",
    "    x = 0\n",
    "    nmb_list = []\n",
    "    for n in numbers:\n",
    "        try:\n",
    "            nmb_list.append(int(n))\n",
    "        \n",
    "        except ValueError:\n",
    "            x += 1\n",
    "            \n",
    "    if x == len(numbers):\n",
    "        print('Oh, wow! the list do not have any integer numbers')\n",
    "        print('Please, try again!')\n",
    "        take_list()\n",
    "    \n",
    "    else:\n",
    "        print(f'the largest integer number in the list is: {max(nmb_list)}')\n",
    "\n",
    "take_list()"
   ]
  }
 ],
 "metadata": {
  "kernelspec": {
   "display_name": "Python 3 (ipykernel)",
   "language": "python",
   "name": "python3"
  },
  "language_info": {
   "codemirror_mode": {
    "name": "ipython",
    "version": 3
   },
   "file_extension": ".py",
   "mimetype": "text/x-python",
   "name": "python",
   "nbconvert_exporter": "python",
   "pygments_lexer": "ipython3",
   "version": "3.9.13"
  },
  "vscode": {
   "interpreter": {
    "hash": "f7a5be651532581cb44625d52e18aa1d390cab54bc6b51099d8c30bea9b68219"
   }
  }
 },
 "nbformat": 4,
 "nbformat_minor": 2
}
