{
 "cells": [
  {
   "cell_type": "markdown",
   "metadata": {},
   "source": [
    "1. Write a program that takes a list of numbers and returns the largest number in the list."
   ]
  },
  {
   "cell_type": "code",
   "execution_count": 2,
   "metadata": {},
   "outputs": [
    {
     "data": {
      "text/plain": [
       "9"
      ]
     },
     "execution_count": 2,
     "metadata": {},
     "output_type": "execute_result"
    }
   ],
   "source": [
    "numbers = [1, 2, 3, 4, 5, 6, 7, 8, 9]\n",
    "# your code here\n",
    "def largestNumber(list_nmb):\n",
    "    largest_nmb = 0\n",
    "\n",
    "    for n in numbers:\n",
    "        if n > largest_nmb:\n",
    "            largest_nmb = n\n",
    "\n",
    "    return largest_nmb\n",
    "\n",
    "largestNumber(numbers)"
   ]
  },
  {
   "cell_type": "markdown",
   "metadata": {},
   "source": [
    "2. Write a program that takes a string and returns the number of vowels in the string."
   ]
  },
  {
   "cell_type": "code",
   "execution_count": 26,
   "metadata": {},
   "outputs": [
    {
     "name": "stdout",
     "output_type": "stream",
     "text": [
      "3\n"
     ]
    }
   ],
   "source": [
    "string = \"Hello World!\"\n",
    "# your code here\n",
    "def howManyVowels(string):\n",
    "    vowels = ['a', 'e', 'i', 'o', 'u']\n",
    "    n_vowels = 0\n",
    "    \n",
    "    for letter in string:\n",
    "        if letter.lower() in vowels:\n",
    "            n_vowels += 1\n",
    "    \n",
    "    return n_vowels\n",
    "\n",
    "print(howManyVowels(string))"
   ]
  },
  {
   "cell_type": "markdown",
   "metadata": {},
   "source": [
    "3. Write a program that takes a list of strings and returns a new list that contains only the strings that start with the letter 'a'."
   ]
  },
  {
   "cell_type": "code",
   "execution_count": 12,
   "metadata": {},
   "outputs": [
    {
     "name": "stdout",
     "output_type": "stream",
     "text": [
      "['apple']\n"
     ]
    }
   ],
   "source": [
    "strings = [\"apple\", \"banana\", \"cherry\", \"date\"]\n",
    "# your code here\n",
    "def aList(words):\n",
    "    new_list = []\n",
    "    \n",
    "    for word in words:\n",
    "        if word[0].lower() == 'a':\n",
    "            new_list.append(word)\n",
    "    \n",
    "    return new_list\n",
    "\n",
    "print(aList(strings))"
   ]
  },
  {
   "cell_type": "markdown",
   "metadata": {},
   "source": [
    "4. Write a program that takes a sentence (string) and returns a dictionary with the count of each word in the sentence."
   ]
  },
  {
   "cell_type": "code",
   "execution_count": 47,
   "metadata": {},
   "outputs": [
    {
     "name": "stdout",
     "output_type": "stream",
     "text": [
      "{'word': ['this', 'is', 'a', 'test', 'sentence'], 'letters': [4, 2, 1, 4, 8]}\n"
     ]
    }
   ],
   "source": [
    "sentence = \"this is a test sentence\"\n",
    "# your code here\n",
    "def countEachWord(sentence):\n",
    "    dict_words = {'word': [],\n",
    "                 'letters': []}\n",
    "    \n",
    "    for word in sentence.split():\n",
    "        dict_words['word'].append(word)\n",
    "        dict_words['letters'].append(len(word))\n",
    "    \n",
    "    return dict_words\n",
    "\n",
    "print(words)"
   ]
  },
  {
   "cell_type": "markdown",
   "metadata": {},
   "source": [
    "5. Write a program that takes two lists of numbers and returns a new list that contains only the numbers that are common to both lists."
   ]
  },
  {
   "cell_type": "code",
   "execution_count": 19,
   "metadata": {},
   "outputs": [
    {
     "name": "stdout",
     "output_type": "stream",
     "text": [
      "[2, 4, 6, 8]\n"
     ]
    }
   ],
   "source": [
    "list1 = [1, 2, 3, 4, 5, 6, 7, 8, 9]\n",
    "list2 = [2, 4, 6, 8, 10, 12, 14, 16, 18]\n",
    "# your code here\n",
    "def commonNumbers(l1, l2):\n",
    "    newList = []\n",
    "    for n in l1:\n",
    "        if n in l2:\n",
    "            newList.append(n)\n",
    "    \n",
    "    return newList\n",
    "\n",
    "print(commonNumbers(list1, list2))"
   ]
  },
  {
   "cell_type": "markdown",
   "metadata": {},
   "source": [
    "6. Write a program that takes a list of integers and returns a new list that contains only the prime numbers from the original list."
   ]
  },
  {
   "cell_type": "code",
   "execution_count": 35,
   "metadata": {},
   "outputs": [
    {
     "name": "stdout",
     "output_type": "stream",
     "text": [
      "[2, 3, 5, 7, 11, 13]\n"
     ]
    }
   ],
   "source": [
    "numbers = [1, 2, 3, 4, 5, 6, 7, 8, 9, 10, 11, 12, 13, 14, 15]\n",
    "# your code here\n",
    "def primes(l_nmb):\n",
    "    list_primes = []\n",
    "    \n",
    "    for n in l_nmb:\n",
    "        if n > 1:\n",
    "            itsprime = True\n",
    "            for i in range(2, int(n**(1/2))+1):\n",
    "                if n%i == 0:\n",
    "                    itsprime = False\n",
    "            if itsprime:\n",
    "                list_primes.append(n)\n",
    "\n",
    "    return list_primes\n",
    "\n",
    "print(primes(numbers))"
   ]
  },
  {
   "cell_type": "markdown",
   "metadata": {},
   "source": [
    "7. Write a program that takes a string and returns the number of words in the string."
   ]
  },
  {
   "cell_type": "code",
   "execution_count": 44,
   "metadata": {},
   "outputs": [
    {
     "name": "stdout",
     "output_type": "stream",
     "text": [
      "The string \"How many words has in the sentence?\" has 7 words\n"
     ]
    }
   ],
   "source": [
    "string = \"this is a test sentence to test the test\"\n",
    "# your code here\n",
    "def howManyWords(string):\n",
    "    return len(string.strip().split())\n",
    "\n",
    "print(f'The string \"{string}\" has {howManyWords(string)} words')"
   ]
  },
  {
   "cell_type": "markdown",
   "metadata": {},
   "source": [
    "8. Write a program that takes a list of strings and returns a new list that contains only the strings that are palindrome."
   ]
  },
  {
   "cell_type": "code",
   "execution_count": 48,
   "metadata": {},
   "outputs": [
    {
     "name": "stdout",
     "output_type": "stream",
     "text": [
      "['madam', 'level', 'civic', 'ovo', 'osso']\n"
     ]
    }
   ],
   "source": [
    "strings = [\"madam\", \"level\", \"civic\", \"test\"]\n",
    "# your code here\n",
    "def palindromes(strings):\n",
    "    new_list = []\n",
    "    \n",
    "    for word in strings:\n",
    "        if word == word[::-1]:\n",
    "            new_list.append(word)\n",
    "    return new_list\n",
    "\n",
    "print(palindromes(strings))"
   ]
  },
  {
   "cell_type": "markdown",
   "metadata": {},
   "source": [
    "9. Write a program that takes a sentence (string) and returns a tuple of the most frequent word and its frequency."
   ]
  },
  {
   "cell_type": "code",
   "execution_count": 54,
   "metadata": {},
   "outputs": [
    {
     "name": "stdout",
     "output_type": "stream",
     "text": [
      "('test', 3)\n"
     ]
    }
   ],
   "source": [
    "sentence = \"this is a test sentence to test the test\"\n",
    "# your code here\n",
    "def mostFrequentWord(sentence):\n",
    "    list_words = sentence.lower().split()\n",
    "    freq = 0\n",
    "    \n",
    "    for word in list_words:\n",
    "        if  list_words.count(word) > freq:\n",
    "            freq = list_words.count(word)\n",
    "            mf_word = (word, freq)\n",
    "    \n",
    "    return mf_word\n",
    "\n",
    "print(mostFrequentWord(sentence))"
   ]
  },
  {
   "cell_type": "code",
   "execution_count": null,
   "metadata": {},
   "outputs": [],
   "source": []
  }
 ],
 "metadata": {
  "kernelspec": {
   "display_name": "Python 3 (ipykernel)",
   "language": "python",
   "name": "python3"
  },
  "language_info": {
   "codemirror_mode": {
    "name": "ipython",
    "version": 3
   },
   "file_extension": ".py",
   "mimetype": "text/x-python",
   "name": "python",
   "nbconvert_exporter": "python",
   "pygments_lexer": "ipython3",
   "version": "3.9.13"
  },
  "vscode": {
   "interpreter": {
    "hash": "f7a5be651532581cb44625d52e18aa1d390cab54bc6b51099d8c30bea9b68219"
   }
  }
 },
 "nbformat": 4,
 "nbformat_minor": 2
}
