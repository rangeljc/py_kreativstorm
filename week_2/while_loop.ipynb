{
 "cells": [
  {
   "cell_type": "markdown",
   "metadata": {},
   "source": [
    "1. Create a while loop that repeatedly takes user input and adds the input to a list until the user enters \"done\"."
   ]
  },
  {
   "cell_type": "code",
   "execution_count": null,
   "metadata": {
    "vscode": {
     "languageId": "plaintext"
    }
   },
   "outputs": [],
   "source": [
    "list_words = []\n",
    "\n",
    "while True:\n",
    "    writen = input('Ok! What do you want to input: ')\n",
    "    \n",
    "    if writen != 'done':\n",
    "        list_words.append(writen)\n",
    "    else:\n",
    "        break\n",
    "\n",
    "print(list_words)"
   ]
  },
  {
   "cell_type": "markdown",
   "metadata": {},
   "source": [
    "2. Create a while loop that generates random numbers and adds them to a list until the sum of all numbers in the list is greater than 100."
   ]
  },
  {
   "cell_type": "code",
   "execution_count": null,
   "metadata": {
    "vscode": {
     "languageId": "plaintext"
    }
   },
   "outputs": [],
   "source": [
    "import random\n",
    "\n",
    "list_nmb = []\n",
    "\n",
    "while sum(list_nmb) <= 100:\n",
    "    list_nmb.append(random.randint(1,10))\n",
    "\n",
    "print(list_nmb, sum(list_nmb))"
   ]
  },
  {
   "cell_type": "markdown",
   "metadata": {},
   "source": [
    "3. Create a while loop that repeatedly takes user input and appends it to a list, but only if the input is a unique string."
   ]
  },
  {
   "cell_type": "code",
   "execution_count": null,
   "metadata": {
    "vscode": {
     "languageId": "plaintext"
    }
   },
   "outputs": [],
   "source": [
    "list_words = []\n",
    "\n",
    "while True:\n",
    "    writen = input('Ok! What do you want to input: ')\n",
    "    \n",
    "    if writen != 'done':\n",
    "        if writen.lower() not in ' '.join(list_words).lower():\n",
    "            list_words.append(writen)\n",
    "    else:\n",
    "        break\n",
    "\n",
    "print(list_words)"
   ]
  },
  {
   "cell_type": "markdown",
   "metadata": {},
   "source": [
    "4. Create a while loop that repeatedly takes user input and appends it to a list, but only if the input is a number greater than 10."
   ]
  },
  {
   "cell_type": "code",
   "execution_count": null,
   "metadata": {
    "vscode": {
     "languageId": "plaintext"
    }
   },
   "outputs": [],
   "source": [
    "list_nmb = []\n",
    "\n",
    "while True:\n",
    "    writen = input('Ok! What do you want to input: ')\n",
    "    \n",
    "    if writen != 'done':\n",
    "        try:\n",
    "            nmb = int(writen)\n",
    "        except ValueError:\n",
    "            pass\n",
    "        else:\n",
    "            if nmb > 10:\n",
    "                list_nmb.append(nmb)\n",
    "    else:\n",
    "        break\n",
    "\n",
    "print(list_nmb)"
   ]
  },
  {
   "cell_type": "markdown",
   "metadata": {},
   "source": [
    "5. Create a while loop that repeatedly takes user input and keeps track of the highest number entered until the user enters \"done\"."
   ]
  },
  {
   "cell_type": "code",
   "execution_count": null,
   "metadata": {
    "vscode": {
     "languageId": "plaintext"
    }
   },
   "outputs": [],
   "source": [
    "high_nmb = 0\n",
    "print('Enter \"done\" if you want to exit...')\n",
    "\n",
    "while True:\n",
    "    writen = input('Ok! Input a number : ')\n",
    "    \n",
    "    if writen != 'done':\n",
    "        try:\n",
    "            nmb = int(writen)\n",
    "        except ValueError:\n",
    "            pass\n",
    "        else:\n",
    "            if nmb > high_nmb:\n",
    "                high_nmb = nmb\n",
    "    else:\n",
    "        break\n",
    "        \n",
    "print(f'The higher number entered was: {high_nmb}')"
   ]
  },
  {
   "cell_type": "code",
   "execution_count": null,
   "metadata": {},
   "outputs": [],
   "source": []
  }
 ],
 "metadata": {
  "kernelspec": {
   "display_name": "Python 3 (ipykernel)",
   "language": "python",
   "name": "python3"
  },
  "language_info": {
   "codemirror_mode": {
    "name": "ipython",
    "version": 3
   },
   "file_extension": ".py",
   "mimetype": "text/x-python",
   "name": "python",
   "nbconvert_exporter": "python",
   "pygments_lexer": "ipython3",
   "version": "3.11.4"
  }
 },
 "nbformat": 4,
 "nbformat_minor": 2
}
