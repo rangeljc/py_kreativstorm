{
 "cells": [
  {
   "cell_type": "code",
   "execution_count": 1,
   "id": "785891d4",
   "metadata": {},
   "outputs": [],
   "source": [
    "teste = [1, 2, 3, 4, 5, 6, 7, 8, 9]"
   ]
  },
  {
   "cell_type": "code",
   "execution_count": 2,
   "id": "82f57cc4",
   "metadata": {},
   "outputs": [
    {
     "name": "stdout",
     "output_type": "stream",
     "text": [
      "indice 0:  1 + 1 =  2\n",
      "indice 0:  1 + 2 =  3\n",
      "indice 0:  1 + 3 =  4\n",
      "indice 0:  1 + 4 =  5\n",
      "indice 0:  1 + 5 =  6\n",
      "indice 0:  1 + 6 =  7\n",
      "indice 0:  1 + 7 =  8\n",
      "indice 0:  1 + 8 =  9\n",
      "indice 0:  1 + 9 =  10\n",
      "indice 1:  2 + 2 =  4\n",
      "indice 1:  2 + 3 =  5\n",
      "indice 1:  2 + 4 =  6\n",
      "indice 1:  2 + 5 =  7\n",
      "indice 1:  2 + 6 =  8\n",
      "indice 1:  2 + 7 =  9\n",
      "indice 1:  2 + 8 =  10\n",
      "indice 1:  2 + 9 =  11\n",
      "indice 2:  3 + 3 =  6\n",
      "indice 2:  3 + 4 =  7\n",
      "indice 2:  3 + 5 =  8\n",
      "indice 2:  3 + 6 =  9\n",
      "indice 2:  3 + 7 =  10\n",
      "indice 2:  3 + 8 =  11\n",
      "indice 2:  3 + 9 =  12\n",
      "indice 3:  4 + 4 =  8\n",
      "indice 3:  4 + 5 =  9\n",
      "indice 3:  4 + 6 =  10\n",
      "indice 3:  4 + 7 =  11\n",
      "indice 3:  4 + 8 =  12\n",
      "indice 3:  4 + 9 =  13\n",
      "indice 4:  5 + 5 =  10\n",
      "indice 4:  5 + 6 =  11\n",
      "indice 4:  5 + 7 =  12\n",
      "indice 4:  5 + 8 =  13\n",
      "indice 4:  5 + 9 =  14\n",
      "indice 5:  6 + 6 =  12\n",
      "indice 5:  6 + 7 =  13\n",
      "indice 5:  6 + 8 =  14\n",
      "indice 5:  6 + 9 =  15\n",
      "indice 6:  7 + 7 =  14\n",
      "indice 6:  7 + 8 =  15\n",
      "indice 6:  7 + 9 =  16\n",
      "indice 7:  8 + 8 =  16\n",
      "indice 7:  8 + 9 =  17\n",
      "indice 8:  9 + 9 =  18\n"
     ]
    }
   ],
   "source": [
    "for x, n in enumerate(teste):\n",
    "    for i in teste[x:]:\n",
    "        sum_an = n+i\n",
    "        print(f'indice {x}: ', f'{n} + {i} = ', sum_an)"
   ]
  },
  {
   "cell_type": "code",
   "execution_count": 3,
   "id": "efa6016c",
   "metadata": {},
   "outputs": [
    {
     "data": {
      "text/plain": [
       "['texto']"
      ]
     },
     "execution_count": 3,
     "metadata": {},
     "output_type": "execute_result"
    }
   ],
   "source": [
    "texto = \"texto\".split()\n",
    "texto"
   ]
  },
  {
   "cell_type": "code",
   "execution_count": 4,
   "id": "72cd2eff",
   "metadata": {},
   "outputs": [
    {
     "data": {
      "text/plain": [
       "int"
      ]
     },
     "execution_count": 4,
     "metadata": {},
     "output_type": "execute_result"
    }
   ],
   "source": [
    "type(13//2)"
   ]
  },
  {
   "cell_type": "code",
   "execution_count": 7,
   "id": "de55d7dc",
   "metadata": {},
   "outputs": [
    {
     "data": {
      "text/plain": [
       "True"
      ]
     },
     "execution_count": 7,
     "metadata": {},
     "output_type": "execute_result"
    }
   ],
   "source": [
    "sum_an not in teste"
   ]
  },
  {
   "cell_type": "code",
   "execution_count": 16,
   "id": "8e04fa16",
   "metadata": {},
   "outputs": [
    {
     "data": {
      "text/plain": [
       "[1, 2, 3, 4, 5, 6, 7, 8]"
      ]
     },
     "execution_count": 16,
     "metadata": {},
     "output_type": "execute_result"
    }
   ],
   "source": [
    "teste = [1, 2, 4, 3, 6, 5, 7, 8]\n",
    "teste.sort()\n",
    "teste"
   ]
  },
  {
   "cell_type": "code",
   "execution_count": null,
   "id": "5f20f923",
   "metadata": {},
   "outputs": [],
   "source": []
  }
 ],
 "metadata": {
  "kernelspec": {
   "display_name": "Python 3 (ipykernel)",
   "language": "python",
   "name": "python3"
  },
  "language_info": {
   "codemirror_mode": {
    "name": "ipython",
    "version": 3
   },
   "file_extension": ".py",
   "mimetype": "text/x-python",
   "name": "python",
   "nbconvert_exporter": "python",
   "pygments_lexer": "ipython3",
   "version": "3.11.4"
  }
 },
 "nbformat": 4,
 "nbformat_minor": 5
}
