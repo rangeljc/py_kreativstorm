{
 "cells": [
  {
   "cell_type": "code",
   "execution_count": 13,
   "id": "de55d7dc",
   "metadata": {},
   "outputs": [
    {
     "name": "stdout",
     "output_type": "stream",
     "text": [
      "Enter hours: 35\n",
      "Enter rate: 10\n",
      "350\n"
     ]
    }
   ],
   "source": [
    "try:\n",
    "    hours = int(input('Enter hours: '))\n",
    "    rate = int(input('Enter rate: '))\n",
    "\n",
    "except ValueError:\n",
    "    print(\"It's only allowed numeric values for hours and rate!\")\n",
    "    \n",
    "else:\n",
    "    exc = hours - 40\n",
    "    if exc > 0:\n",
    "        pay = (hours-exc)*rate + (exc*1.5*rate)\n",
    "    else:\n",
    "        pay = hours*10\n",
    "\n",
    "    print(pay)"
   ]
  },
  {
   "cell_type": "code",
   "execution_count": 23,
   "id": "410454a9",
   "metadata": {},
   "outputs": [
    {
     "name": "stdout",
     "output_type": "stream",
     "text": [
      "Enter the score between 0.0 and 1.0: -0.1\n",
      "It's only allowed numeric float values, between 0.0 and 1.0, for score!\n"
     ]
    }
   ],
   "source": [
    "try:\n",
    "    score = float(input('Enter the score between 0.0 and 1.0: '))\n",
    "    if (score > 1.0) or (score < 0.0):\n",
    "        raise ValueError\n",
    "\n",
    "except ValueError:\n",
    "    print(\"It's only allowed numeric float values, between 0.0 and 1.0, for score!\")\n",
    "    \n",
    "else:\n",
    "    if score >= 0.9:\n",
    "        print(f'Score = {score}: Grade = A')\n",
    "    elif score >= 0.8:\n",
    "        print(f'Score = {score}: Grade = B')\n",
    "    elif score >= 0.7:\n",
    "        print(f'Score = {score}: Grade = C')\n",
    "    elif score >= 0.6:\n",
    "        print(f'Score = {score}: Grade = D')\n",
    "    else:\n",
    "        print(f'Score = {score}: Grade = F')"
   ]
  },
  {
   "cell_type": "code",
   "execution_count": null,
   "id": "ab0ff5a3",
   "metadata": {},
   "outputs": [],
   "source": []
  }
 ],
 "metadata": {
  "kernelspec": {
   "display_name": "Python 3 (ipykernel)",
   "language": "python",
   "name": "python3"
  },
  "language_info": {
   "codemirror_mode": {
    "name": "ipython",
    "version": 3
   },
   "file_extension": ".py",
   "mimetype": "text/x-python",
   "name": "python",
   "nbconvert_exporter": "python",
   "pygments_lexer": "ipython3",
   "version": "3.9.13"
  }
 },
 "nbformat": 4,
 "nbformat_minor": 5
}
