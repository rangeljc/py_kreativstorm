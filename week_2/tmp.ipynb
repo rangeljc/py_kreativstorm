{
 "cells": [
  {
   "cell_type": "code",
   "execution_count": 16,
   "id": "31031932",
   "metadata": {},
   "outputs": [],
   "source": [
    "teste = 1234567890"
   ]
  },
  {
   "cell_type": "code",
   "execution_count": 18,
   "id": "4820f77e",
   "metadata": {},
   "outputs": [
    {
     "data": {
      "text/plain": [
       "[1, 2, 3, 4, 5, 6, 7, 8, 9, 0]"
      ]
     },
     "execution_count": 18,
     "metadata": {},
     "output_type": "execute_result"
    }
   ],
   "source": [
    "teste = [int(n) for n in str(teste)]\n",
    "teste"
   ]
  },
  {
   "cell_type": "code",
   "execution_count": 19,
   "id": "e4513a3b",
   "metadata": {},
   "outputs": [
    {
     "data": {
      "text/plain": [
       "45"
      ]
     },
     "execution_count": 19,
     "metadata": {},
     "output_type": "execute_result"
    }
   ],
   "source": [
    "sum(teste)"
   ]
  },
  {
   "cell_type": "code",
   "execution_count": 22,
   "id": "dfbfae73",
   "metadata": {},
   "outputs": [
    {
     "data": {
      "text/plain": [
       "'juliocesar'"
      ]
     },
     "execution_count": 22,
     "metadata": {},
     "output_type": "execute_result"
    }
   ],
   "source": [
    "w1 = 'julio'\n",
    "w2 = 'cesar'\n",
    "''.join([w1,w2])"
   ]
  },
  {
   "cell_type": "code",
   "execution_count": 25,
   "id": "f4ecbc8c",
   "metadata": {},
   "outputs": [
    {
     "data": {
      "text/plain": [
       "'23'"
      ]
     },
     "execution_count": 25,
     "metadata": {},
     "output_type": "execute_result"
    }
   ],
   "source": [
    "teste = '123'\n",
    "teste[1:3]"
   ]
  },
  {
   "cell_type": "code",
   "execution_count": 26,
   "id": "934715db",
   "metadata": {},
   "outputs": [
    {
     "data": {
      "text/plain": [
       "0"
      ]
     },
     "execution_count": 26,
     "metadata": {},
     "output_type": "execute_result"
    }
   ],
   "source": [
    "len('')"
   ]
  },
  {
   "cell_type": "code",
   "execution_count": 35,
   "id": "6ff121d9",
   "metadata": {},
   "outputs": [],
   "source": [
    "teste = ['julio', 'cesar', 'julio cesar']"
   ]
  },
  {
   "cell_type": "code",
   "execution_count": 37,
   "id": "4e361a3e",
   "metadata": {},
   "outputs": [
    {
     "data": {
      "text/plain": [
       "'juliocesarjulio cesar'"
      ]
     },
     "execution_count": 37,
     "metadata": {},
     "output_type": "execute_result"
    }
   ],
   "source": [
    "''.join(teste)"
   ]
  },
  {
   "cell_type": "code",
   "execution_count": 30,
   "id": "d8402692",
   "metadata": {},
   "outputs": [
    {
     "data": {
      "text/plain": [
       "'juliocesar'"
      ]
     },
     "execution_count": 30,
     "metadata": {},
     "output_type": "execute_result"
    }
   ],
   "source": [
    "''.join(teste.split('-'))"
   ]
  },
  {
   "cell_type": "code",
   "execution_count": 39,
   "id": "30d4b9a9",
   "metadata": {},
   "outputs": [
    {
     "name": "stdout",
     "output_type": "stream",
     "text": [
      "10\n",
      "9\n",
      "8\n",
      "7\n",
      "6\n",
      "5\n",
      "4\n",
      "3\n",
      "2\n",
      "1\n"
     ]
    }
   ],
   "source": [
    "for i in range(10, 0, -1):\n",
    "    print(i)"
   ]
  },
  {
   "cell_type": "code",
   "execution_count": null,
   "id": "785891d4",
   "metadata": {},
   "outputs": [],
   "source": []
  }
 ],
 "metadata": {
  "kernelspec": {
   "display_name": "Python 3 (ipykernel)",
   "language": "python",
   "name": "python3"
  },
  "language_info": {
   "codemirror_mode": {
    "name": "ipython",
    "version": 3
   },
   "file_extension": ".py",
   "mimetype": "text/x-python",
   "name": "python",
   "nbconvert_exporter": "python",
   "pygments_lexer": "ipython3",
   "version": "3.9.13"
  }
 },
 "nbformat": 4,
 "nbformat_minor": 5
}
