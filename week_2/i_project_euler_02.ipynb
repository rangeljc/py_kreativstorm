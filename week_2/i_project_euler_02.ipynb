{
 "cells": [
  {
   "cell_type": "markdown",
   "metadata": {},
   "source": [
    "1. \n",
    "\n",
    "Work out the first ten digits of the sum of the following one-hundred 50-digit numbers.\n",
    "\n",
    "37107287533902102798797998220837590246510135740250\n",
    "46376937677490009712648124896970078050417018260538\n",
    "74324986199524741059474233309513058123726617309629\n",
    "91942213363574161572522430563301811072406154908250\n",
    "23067588207539346171171980310421047513778063246676\n",
    "89261670696623633820136378418383684178734361726757\n",
    "28112879812849979408065481931592621691275889832738\n",
    "44274228917432520321923589422876796487670272189318\n",
    "47451445736001306439091167216856844588711603153276\n",
    "70386486105843025439939619828917593665686757934951\n",
    "62176457141856560629502157223196586755079324193331\n",
    "64906352462741904929101432445813822663347944758178\n",
    "92575867718337217661963751590579239728245598838407\n",
    "58203565325359399008402633568948830189458628227828\n",
    "80181199384826282014278194139940567587151170094390\n",
    "35398664372827112653829987240784473053190104293586\n",
    "86515506006295864861532075273371959191420517255829\n",
    "71693888707715466499115593487603532921714970056938\n",
    "54370070576826684624621495650076471787294438377604\n",
    "53282654108756828443191190634694037855217779295145\n",
    "36123272525000296071075082563815656710885258350721\n",
    "45876576172410976447339110607218265236877223636045\n",
    "17423706905851860660448207621209813287860733969412\n",
    "81142660418086830619328460811191061556940512689692\n",
    "51934325451728388641918047049293215058642563049483\n",
    "62467221648435076201727918039944693004732956340691\n",
    "15732444386908125794514089057706229429197107928209\n",
    "55037687525678773091862540744969844508330393682126\n",
    "18336384825330154686196124348767681297534375946515\n",
    "80386287592878490201521685554828717201219257766954\n",
    "78182833757993103614740356856449095527097864797581\n",
    "16726320100436897842553539920931837441497806860984\n",
    "48403098129077791799088218795327364475675590848030\n",
    "87086987551392711854517078544161852424320693150332\n",
    "59959406895756536782107074926966537676326235447210\n",
    "69793950679652694742597709739166693763042633987085\n",
    "41052684708299085211399427365734116182760315001271\n",
    "65378607361501080857009149939512557028198746004375\n",
    "35829035317434717326932123578154982629742552737307\n",
    "94953759765105305946966067683156574377167401875275\n",
    "88902802571733229619176668713819931811048770190271\n",
    "25267680276078003013678680992525463401061632866526\n",
    "36270218540497705585629946580636237993140746255962\n",
    "24074486908231174977792365466257246923322810917141\n",
    "91430288197103288597806669760892938638285025333403\n",
    "34413065578016127815921815005561868836468420090470\n",
    "23053081172816430487623791969842487255036638784583\n",
    "11487696932154902810424020138335124462181441773470\n",
    "63783299490636259666498587618221225225512486764533\n",
    "67720186971698544312419572409913959008952310058822\n",
    "95548255300263520781532296796249481641953868218774\n",
    "76085327132285723110424803456124867697064507995236\n",
    "37774242535411291684276865538926205024910326572967\n",
    "23701913275725675285653248258265463092207058596522\n",
    "29798860272258331913126375147341994889534765745501\n",
    "18495701454879288984856827726077713721403798879715\n",
    "38298203783031473527721580348144513491373226651381\n",
    "34829543829199918180278916522431027392251122869539\n",
    "40957953066405232632538044100059654939159879593635\n",
    "29746152185502371307642255121183693803580388584903\n",
    "41698116222072977186158236678424689157993532961922\n",
    "62467957194401269043877107275048102390895523597457\n",
    "23189706772547915061505504953922979530901129967519\n",
    "86188088225875314529584099251203829009407770775672\n",
    "11306739708304724483816533873502340845647058077308\n",
    "82959174767140363198008187129011875491310547126581\n",
    "97623331044818386269515456334926366572897563400500\n",
    "42846280183517070527831839425882145521227251250327\n",
    "55121603546981200581762165212827652751691296897789\n",
    "32238195734329339946437501907836945765883352399886\n",
    "75506164965184775180738168837861091527357929701337\n",
    "62177842752192623401942399639168044983993173312731\n",
    "32924185707147349566916674687634660915035914677504\n",
    "99518671430235219628894890102423325116913619626622\n",
    "73267460800591547471830798392868535206946944540724\n",
    "76841822524674417161514036427982273348055556214818\n",
    "97142617910342598647204516893989422179826088076852\n",
    "87783646182799346313767754307809363333018982642090\n",
    "10848802521674670883215120185883543223812876952786\n",
    "71329612474782464538636993009049310363619763878039\n",
    "62184073572399794223406235393808339651327408011116\n",
    "66627891981488087797941876876144230030984490851411\n",
    "60661826293682836764744779239180335110989069790714\n",
    "85786944089552990653640447425576083659976645795096\n",
    "66024396409905389607120198219976047599490197230297\n",
    "64913982680032973156037120041377903785566085089252\n",
    "16730939319872750275468906903707539413042652315011\n",
    "94809377245048795150954100921645863754710598436791\n",
    "78639167021187492431995700641917969777599028300699\n",
    "15368713711936614952811305876380278410754449733078\n",
    "40789923115535562561142322423255033685442488917353\n",
    "44889911501440648020369068063960672322193204149535\n",
    "41503128880339536053299340368006977710650566631954\n",
    "81234880673210146739058568557934581403627822703280\n",
    "82616570773948327592232845941706525094512325230608\n",
    "22918802058777319719839450180888072429661980811197\n",
    "77158542502016545090413245809786882778948721859617\n",
    "72107838435069186155435662884062257473692284509516\n",
    "20849603980134001723930671666823555245252804609722\n",
    "53503534226472524250874054075591789781264330331690"
   ]
  },
  {
   "cell_type": "code",
   "execution_count": 7,
   "metadata": {},
   "outputs": [
    {
     "data": {
      "text/plain": [
       "'5537376230'"
      ]
     },
     "execution_count": 7,
     "metadata": {},
     "output_type": "execute_result"
    }
   ],
   "source": [
    "tmp = '37107287533902102798797998220837590246510135740250 46376937677490009712648124896970078050417018260538 74324986199524741059474233309513058123726617309629 91942213363574161572522430563301811072406154908250 23067588207539346171171980310421047513778063246676 89261670696623633820136378418383684178734361726757 28112879812849979408065481931592621691275889832738 44274228917432520321923589422876796487670272189318 47451445736001306439091167216856844588711603153276 70386486105843025439939619828917593665686757934951 62176457141856560629502157223196586755079324193331 64906352462741904929101432445813822663347944758178 92575867718337217661963751590579239728245598838407 58203565325359399008402633568948830189458628227828 80181199384826282014278194139940567587151170094390 35398664372827112653829987240784473053190104293586 86515506006295864861532075273371959191420517255829 71693888707715466499115593487603532921714970056938 54370070576826684624621495650076471787294438377604 53282654108756828443191190634694037855217779295145 36123272525000296071075082563815656710885258350721 45876576172410976447339110607218265236877223636045 17423706905851860660448207621209813287860733969412 81142660418086830619328460811191061556940512689692 51934325451728388641918047049293215058642563049483 62467221648435076201727918039944693004732956340691 15732444386908125794514089057706229429197107928209 55037687525678773091862540744969844508330393682126 18336384825330154686196124348767681297534375946515 80386287592878490201521685554828717201219257766954 78182833757993103614740356856449095527097864797581 16726320100436897842553539920931837441497806860984 48403098129077791799088218795327364475675590848030 87086987551392711854517078544161852424320693150332 59959406895756536782107074926966537676326235447210 69793950679652694742597709739166693763042633987085 41052684708299085211399427365734116182760315001271 65378607361501080857009149939512557028198746004375 35829035317434717326932123578154982629742552737307 94953759765105305946966067683156574377167401875275 88902802571733229619176668713819931811048770190271 25267680276078003013678680992525463401061632866526 36270218540497705585629946580636237993140746255962 24074486908231174977792365466257246923322810917141 91430288197103288597806669760892938638285025333403 34413065578016127815921815005561868836468420090470 23053081172816430487623791969842487255036638784583 11487696932154902810424020138335124462181441773470 63783299490636259666498587618221225225512486764533 67720186971698544312419572409913959008952310058822 95548255300263520781532296796249481641953868218774 76085327132285723110424803456124867697064507995236 37774242535411291684276865538926205024910326572967 23701913275725675285653248258265463092207058596522 29798860272258331913126375147341994889534765745501 18495701454879288984856827726077713721403798879715 38298203783031473527721580348144513491373226651381 34829543829199918180278916522431027392251122869539 40957953066405232632538044100059654939159879593635 29746152185502371307642255121183693803580388584903 41698116222072977186158236678424689157993532961922 62467957194401269043877107275048102390895523597457 23189706772547915061505504953922979530901129967519 86188088225875314529584099251203829009407770775672 11306739708304724483816533873502340845647058077308 82959174767140363198008187129011875491310547126581 97623331044818386269515456334926366572897563400500 42846280183517070527831839425882145521227251250327 55121603546981200581762165212827652751691296897789 32238195734329339946437501907836945765883352399886 75506164965184775180738168837861091527357929701337 62177842752192623401942399639168044983993173312731 32924185707147349566916674687634660915035914677504 99518671430235219628894890102423325116913619626622 73267460800591547471830798392868535206946944540724 76841822524674417161514036427982273348055556214818 97142617910342598647204516893989422179826088076852 87783646182799346313767754307809363333018982642090 10848802521674670883215120185883543223812876952786 71329612474782464538636993009049310363619763878039 62184073572399794223406235393808339651327408011116 66627891981488087797941876876144230030984490851411 60661826293682836764744779239180335110989069790714 85786944089552990653640447425576083659976645795096 66024396409905389607120198219976047599490197230297 64913982680032973156037120041377903785566085089252 16730939319872750275468906903707539413042652315011 94809377245048795150954100921645863754710598436791 78639167021187492431995700641917969777599028300699 15368713711936614952811305876380278410754449733078 40789923115535562561142322423255033685442488917353 44889911501440648020369068063960672322193204149535 41503128880339536053299340368006977710650566631954 81234880673210146739058568557934581403627822703280 82616570773948327592232845941706525094512325230608 22918802058777319719839450180888072429661980811197 77158542502016545090413245809786882778948721859617 72107838435069186155435662884062257473692284509516 20849603980134001723930671666823555245252804609722 53503534226472524250874054075591789781264330331690'.split()\n",
    "numbers = []\n",
    "\n",
    "for i in tmp:\n",
    "    numbers.append(int(i))\n",
    "\n",
    "str(sum(numbers))[:10]"
   ]
  },
  {
   "cell_type": "markdown",
   "metadata": {},
   "source": [
    "2. \n",
    "\n",
    "The following iterative sequence is defined for the set of positive integers:\n",
    "\n",
    "n → n/2 (n is even)\n",
    "n → 3n + 1 (n is odd)\n",
    "\n",
    "Using the rule above and starting with 13, we generate the following sequence:\n",
    "13 → 40 → 20 → 10 → 5 → 16 → 8 → 4 → 2 → 1\n",
    "\n",
    "It can be seen that this sequence (starting at 13 and finishing at 1) contains 10 terms. Although it has not been proved yet (Collatz Problem), it is thought that all starting numbers finish at 1.\n",
    "\n",
    "Which starting number, under one million, produces the longest chain?\n",
    "\n",
    "NOTE: Once the chain starts the terms are allowed to go above one million.\n"
   ]
  },
  {
   "cell_type": "code",
   "execution_count": 18,
   "metadata": {},
   "outputs": [
    {
     "name": "stdout",
     "output_type": "stream",
     "text": [
      "the number 837799 produces the longest chain, with 525 terms.\n"
     ]
    }
   ],
   "source": [
    "l_chain = 0\n",
    "\n",
    "for nmb in range(3, 1000000):\n",
    "    chain = [nmb]\n",
    "    n = nmb\n",
    "\n",
    "    while n != 1:\n",
    "        if n%2 == 0:\n",
    "            n = n/2\n",
    "            chain.append(int(n))\n",
    "        else:\n",
    "            n = (3*n)+1\n",
    "            chain.append(int(n))\n",
    "    \n",
    "    #print(f'The number {nmb} produce a chain with {len(chain)} terms.')\n",
    "    \n",
    "    if len(chain) > l_chain:\n",
    "        l_chain = len(chain)\n",
    "        number = nmb\n",
    "\n",
    "print(f'the number {number} produces the longest chain, with {l_chain} terms.')"
   ]
  },
  {
   "cell_type": "markdown",
   "metadata": {},
   "source": [
    "3. \n",
    "\n",
    "2^15 = 32768 and the sum of its digits is 3 + 2 + 7 + 6 + 8 = 26.\n",
    "\n",
    "What is the sum of the digits of the number 2^1000?\n"
   ]
  },
  {
   "cell_type": "code",
   "execution_count": 21,
   "metadata": {},
   "outputs": [
    {
     "name": "stdout",
     "output_type": "stream",
     "text": [
      "1366\n"
     ]
    }
   ],
   "source": [
    "nmb = 2**1000\n",
    "\n",
    "print(sum([int(n) for n in str(nmb)]))"
   ]
  },
  {
   "cell_type": "markdown",
   "metadata": {},
   "source": [
    "4. \n",
    "\n",
    "If the numbers 1 to 5 are written out in words: one, two, three, four, five, then there are 3 + 3 + 5 + 4 + 4 = 19 letters used in total.\n",
    "\n",
    "If all the numbers from 1 to 1000 (one thousand) inclusive were written out in words, how many letters would be used?\n",
    "\n",
    "NOTE: Do not count spaces or hyphens. For example, 342 (three hundred and forty-two) contains 23 letters and 115 (one hundred and fifteen) contains 20 letters. The use of \"and\" when writing out numbers is in compliance with British usage.\n"
   ]
  },
  {
   "cell_type": "code",
   "execution_count": 54,
   "metadata": {},
   "outputs": [
    {
     "name": "stdout",
     "output_type": "stream",
     "text": [
      "['one', 'two', 'three', 'four', 'five', 'six', 'seven', 'eight', 'nine', 'ten', 'eleven', 'twelve', 'thirteen', 'fourteen', 'fifteen', 'sixteen', 'seventeen', 'eighteen', 'nineteen', 'twenty', 'twenty-one', 'twenty-two', 'twenty-three', 'twenty-four', 'twenty-five', 'twenty-six', 'twenty-seven', 'twenty-eight', 'twenty-nine', 'thirty', 'thirty-one', 'thirty-two', 'thirty-three', 'thirty-four', 'thirty-five', 'thirty-six', 'thirty-seven', 'thirty-eight', 'thirty-nine', 'fourty', 'fourty-one', 'fourty-two', 'fourty-three', 'fourty-four', 'fourty-five', 'fourty-six', 'fourty-seven', 'fourty-eight', 'fourty-nine', 'fifty', 'fifty-one', 'fifty-two', 'fifty-three', 'fifty-four', 'fifty-five', 'fifty-six', 'fifty-seven', 'fifty-eight', 'fifty-nine', 'sixty', 'sixty-one', 'sixty-two', 'sixty-three', 'sixty-four', 'sixty-five', 'sixty-six', 'sixty-seven', 'sixty-eight', 'sixty-nine', 'seventy', 'seventy-one', 'seventy-two', 'seventy-three', 'seventy-four', 'seventy-five', 'seventy-six', 'seventy-seven', 'seventy-eight', 'seventy-nine', 'eighty', 'eighty-one', 'eighty-two', 'eighty-three', 'eighty-four', 'eighty-five', 'eighty-six', 'eighty-seven', 'eighty-eight', 'eighty-nine', 'ninety', 'ninety-one', 'ninety-two', 'ninety-three', 'ninety-four', 'ninety-five', 'ninety-six', 'ninety-seven', 'ninety-eight', 'ninety-nine', 'one hundred', 'one hundred and one', 'one hundred and two', 'one hundred and three', 'one hundred and four', 'one hundred and five', 'one hundred and six', 'one hundred and seven', 'one hundred and eight', 'one hundred and nine', 'one hundred and ten', 'one hundred and eleven', 'one hundred and twelve', 'one hundred and thirteen', 'one hundred and fourteen', 'one hundred and fifteen', 'one hundred and sixteen', 'one hundred and seventeen', 'one hundred and eighteen', 'one hundred and nineteen', 'one hundred and twenty', 'one hundred and twenty-one', 'one hundred and twenty-two', 'one hundred and twenty-three', 'one hundred and twenty-four', 'one hundred and twenty-five', 'one hundred and twenty-six', 'one hundred and twenty-seven', 'one hundred and twenty-eight', 'one hundred and twenty-nine', 'one hundred and thirty', 'one hundred and thirty-one', 'one hundred and thirty-two', 'one hundred and thirty-three', 'one hundred and thirty-four', 'one hundred and thirty-five', 'one hundred and thirty-six', 'one hundred and thirty-seven', 'one hundred and thirty-eight', 'one hundred and thirty-nine', 'one hundred and fourty', 'one hundred and fourty-one', 'one hundred and fourty-two', 'one hundred and fourty-three', 'one hundred and fourty-four', 'one hundred and fourty-five', 'one hundred and fourty-six', 'one hundred and fourty-seven', 'one hundred and fourty-eight', 'one hundred and fourty-nine', 'one hundred and fifty', 'one hundred and fifty-one', 'one hundred and fifty-two', 'one hundred and fifty-three', 'one hundred and fifty-four', 'one hundred and fifty-five', 'one hundred and fifty-six', 'one hundred and fifty-seven', 'one hundred and fifty-eight', 'one hundred and fifty-nine', 'one hundred and sixty', 'one hundred and sixty-one', 'one hundred and sixty-two', 'one hundred and sixty-three', 'one hundred and sixty-four', 'one hundred and sixty-five', 'one hundred and sixty-six', 'one hundred and sixty-seven', 'one hundred and sixty-eight', 'one hundred and sixty-nine', 'one hundred and seventy', 'one hundred and seventy-one', 'one hundred and seventy-two', 'one hundred and seventy-three', 'one hundred and seventy-four', 'one hundred and seventy-five', 'one hundred and seventy-six', 'one hundred and seventy-seven', 'one hundred and seventy-eight', 'one hundred and seventy-nine', 'one hundred and eighty', 'one hundred and eighty-one', 'one hundred and eighty-two', 'one hundred and eighty-three', 'one hundred and eighty-four', 'one hundred and eighty-five', 'one hundred and eighty-six', 'one hundred and eighty-seven', 'one hundred and eighty-eight', 'one hundred and eighty-nine', 'one hundred and ninety', 'one hundred and ninety-one', 'one hundred and ninety-two', 'one hundred and ninety-three', 'one hundred and ninety-four', 'one hundred and ninety-five', 'one hundred and ninety-six', 'one hundred and ninety-seven', 'one hundred and ninety-eight', 'one hundred and ninety-nine', 'two hundred', 'two hundred and one', 'two hundred and two', 'two hundred and three', 'two hundred and four', 'two hundred and five', 'two hundred and six', 'two hundred and seven', 'two hundred and eight', 'two hundred and nine', 'two hundred and ten', 'two hundred and eleven', 'two hundred and twelve', 'two hundred and thirteen', 'two hundred and fourteen', 'two hundred and fifteen', 'two hundred and sixteen', 'two hundred and seventeen', 'two hundred and eighteen', 'two hundred and nineteen', 'two hundred and twenty', 'two hundred and twenty-one', 'two hundred and twenty-two', 'two hundred and twenty-three', 'two hundred and twenty-four', 'two hundred and twenty-five', 'two hundred and twenty-six', 'two hundred and twenty-seven', 'two hundred and twenty-eight', 'two hundred and twenty-nine', 'two hundred and thirty', 'two hundred and thirty-one', 'two hundred and thirty-two', 'two hundred and thirty-three', 'two hundred and thirty-four', 'two hundred and thirty-five', 'two hundred and thirty-six', 'two hundred and thirty-seven', 'two hundred and thirty-eight', 'two hundred and thirty-nine', 'two hundred and fourty', 'two hundred and fourty-one', 'two hundred and fourty-two', 'two hundred and fourty-three', 'two hundred and fourty-four', 'two hundred and fourty-five', 'two hundred and fourty-six', 'two hundred and fourty-seven', 'two hundred and fourty-eight', 'two hundred and fourty-nine', 'two hundred and fifty', 'two hundred and fifty-one', 'two hundred and fifty-two', 'two hundred and fifty-three', 'two hundred and fifty-four', 'two hundred and fifty-five', 'two hundred and fifty-six', 'two hundred and fifty-seven', 'two hundred and fifty-eight', 'two hundred and fifty-nine', 'two hundred and sixty', 'two hundred and sixty-one', 'two hundred and sixty-two', 'two hundred and sixty-three', 'two hundred and sixty-four', 'two hundred and sixty-five', 'two hundred and sixty-six', 'two hundred and sixty-seven', 'two hundred and sixty-eight', 'two hundred and sixty-nine', 'two hundred and seventy', 'two hundred and seventy-one', 'two hundred and seventy-two', 'two hundred and seventy-three', 'two hundred and seventy-four', 'two hundred and seventy-five', 'two hundred and seventy-six', 'two hundred and seventy-seven', 'two hundred and seventy-eight', 'two hundred and seventy-nine', 'two hundred and eighty', 'two hundred and eighty-one', 'two hundred and eighty-two', 'two hundred and eighty-three', 'two hundred and eighty-four', 'two hundred and eighty-five', 'two hundred and eighty-six', 'two hundred and eighty-seven', 'two hundred and eighty-eight', 'two hundred and eighty-nine', 'two hundred and ninety', 'two hundred and ninety-one', 'two hundred and ninety-two', 'two hundred and ninety-three', 'two hundred and ninety-four', 'two hundred and ninety-five', 'two hundred and ninety-six', 'two hundred and ninety-seven', 'two hundred and ninety-eight', 'two hundred and ninety-nine', 'three hundred', 'three hundred and one', 'three hundred and two', 'three hundred and three', 'three hundred and four', 'three hundred and five', 'three hundred and six', 'three hundred and seven', 'three hundred and eight', 'three hundred and nine', 'three hundred and ten', 'three hundred and eleven', 'three hundred and twelve', 'three hundred and thirteen', 'three hundred and fourteen', 'three hundred and fifteen', 'three hundred and sixteen', 'three hundred and seventeen', 'three hundred and eighteen', 'three hundred and nineteen', 'three hundred and twenty', 'three hundred and twenty-one', 'three hundred and twenty-two', 'three hundred and twenty-three', 'three hundred and twenty-four', 'three hundred and twenty-five', 'three hundred and twenty-six', 'three hundred and twenty-seven', 'three hundred and twenty-eight', 'three hundred and twenty-nine', 'three hundred and thirty', 'three hundred and thirty-one', 'three hundred and thirty-two', 'three hundred and thirty-three', 'three hundred and thirty-four', 'three hundred and thirty-five', 'three hundred and thirty-six', 'three hundred and thirty-seven', 'three hundred and thirty-eight', 'three hundred and thirty-nine', 'three hundred and fourty', 'three hundred and fourty-one', 'three hundred and fourty-two', 'three hundred and fourty-three', 'three hundred and fourty-four', 'three hundred and fourty-five', 'three hundred and fourty-six', 'three hundred and fourty-seven', 'three hundred and fourty-eight', 'three hundred and fourty-nine', 'three hundred and fifty', 'three hundred and fifty-one', 'three hundred and fifty-two', 'three hundred and fifty-three', 'three hundred and fifty-four', 'three hundred and fifty-five', 'three hundred and fifty-six', 'three hundred and fifty-seven', 'three hundred and fifty-eight', 'three hundred and fifty-nine', 'three hundred and sixty', 'three hundred and sixty-one', 'three hundred and sixty-two', 'three hundred and sixty-three', 'three hundred and sixty-four', 'three hundred and sixty-five', 'three hundred and sixty-six', 'three hundred and sixty-seven', 'three hundred and sixty-eight', 'three hundred and sixty-nine', 'three hundred and seventy', 'three hundred and seventy-one', 'three hundred and seventy-two', 'three hundred and seventy-three', 'three hundred and seventy-four', 'three hundred and seventy-five', 'three hundred and seventy-six', 'three hundred and seventy-seven', 'three hundred and seventy-eight', 'three hundred and seventy-nine', 'three hundred and eighty', 'three hundred and eighty-one', 'three hundred and eighty-two', 'three hundred and eighty-three', 'three hundred and eighty-four', 'three hundred and eighty-five', 'three hundred and eighty-six', 'three hundred and eighty-seven', 'three hundred and eighty-eight', 'three hundred and eighty-nine', 'three hundred and ninety', 'three hundred and ninety-one', 'three hundred and ninety-two', 'three hundred and ninety-three', 'three hundred and ninety-four', 'three hundred and ninety-five', 'three hundred and ninety-six', 'three hundred and ninety-seven', 'three hundred and ninety-eight', 'three hundred and ninety-nine', 'four hundred', 'four hundred and one', 'four hundred and two', 'four hundred and three', 'four hundred and four', 'four hundred and five', 'four hundred and six', 'four hundred and seven', 'four hundred and eight', 'four hundred and nine', 'four hundred and ten', 'four hundred and eleven', 'four hundred and twelve', 'four hundred and thirteen', 'four hundred and fourteen', 'four hundred and fifteen', 'four hundred and sixteen', 'four hundred and seventeen', 'four hundred and eighteen', 'four hundred and nineteen', 'four hundred and twenty', 'four hundred and twenty-one', 'four hundred and twenty-two', 'four hundred and twenty-three', 'four hundred and twenty-four', 'four hundred and twenty-five', 'four hundred and twenty-six', 'four hundred and twenty-seven', 'four hundred and twenty-eight', 'four hundred and twenty-nine', 'four hundred and thirty', 'four hundred and thirty-one', 'four hundred and thirty-two', 'four hundred and thirty-three', 'four hundred and thirty-four', 'four hundred and thirty-five', 'four hundred and thirty-six', 'four hundred and thirty-seven', 'four hundred and thirty-eight', 'four hundred and thirty-nine', 'four hundred and fourty', 'four hundred and fourty-one', 'four hundred and fourty-two', 'four hundred and fourty-three', 'four hundred and fourty-four', 'four hundred and fourty-five', 'four hundred and fourty-six', 'four hundred and fourty-seven', 'four hundred and fourty-eight', 'four hundred and fourty-nine', 'four hundred and fifty', 'four hundred and fifty-one', 'four hundred and fifty-two', 'four hundred and fifty-three', 'four hundred and fifty-four', 'four hundred and fifty-five', 'four hundred and fifty-six', 'four hundred and fifty-seven', 'four hundred and fifty-eight', 'four hundred and fifty-nine', 'four hundred and sixty', 'four hundred and sixty-one', 'four hundred and sixty-two', 'four hundred and sixty-three', 'four hundred and sixty-four', 'four hundred and sixty-five', 'four hundred and sixty-six', 'four hundred and sixty-seven', 'four hundred and sixty-eight', 'four hundred and sixty-nine', 'four hundred and seventy', 'four hundred and seventy-one', 'four hundred and seventy-two', 'four hundred and seventy-three', 'four hundred and seventy-four', 'four hundred and seventy-five', 'four hundred and seventy-six', 'four hundred and seventy-seven', 'four hundred and seventy-eight', 'four hundred and seventy-nine', 'four hundred and eighty', 'four hundred and eighty-one', 'four hundred and eighty-two', 'four hundred and eighty-three', 'four hundred and eighty-four', 'four hundred and eighty-five', 'four hundred and eighty-six', 'four hundred and eighty-seven', 'four hundred and eighty-eight', 'four hundred and eighty-nine', 'four hundred and ninety', 'four hundred and ninety-one', 'four hundred and ninety-two', 'four hundred and ninety-three', 'four hundred and ninety-four', 'four hundred and ninety-five', 'four hundred and ninety-six', 'four hundred and ninety-seven', 'four hundred and ninety-eight', 'four hundred and ninety-nine', 'five hundred', 'five hundred and one', 'five hundred and two', 'five hundred and three', 'five hundred and four', 'five hundred and five', 'five hundred and six', 'five hundred and seven', 'five hundred and eight', 'five hundred and nine', 'five hundred and ten', 'five hundred and eleven', 'five hundred and twelve', 'five hundred and thirteen', 'five hundred and fourteen', 'five hundred and fifteen', 'five hundred and sixteen', 'five hundred and seventeen', 'five hundred and eighteen', 'five hundred and nineteen', 'five hundred and twenty', 'five hundred and twenty-one', 'five hundred and twenty-two', 'five hundred and twenty-three', 'five hundred and twenty-four', 'five hundred and twenty-five', 'five hundred and twenty-six', 'five hundred and twenty-seven', 'five hundred and twenty-eight', 'five hundred and twenty-nine', 'five hundred and thirty', 'five hundred and thirty-one', 'five hundred and thirty-two', 'five hundred and thirty-three', 'five hundred and thirty-four', 'five hundred and thirty-five', 'five hundred and thirty-six', 'five hundred and thirty-seven', 'five hundred and thirty-eight', 'five hundred and thirty-nine', 'five hundred and fourty', 'five hundred and fourty-one', 'five hundred and fourty-two', 'five hundred and fourty-three', 'five hundred and fourty-four', 'five hundred and fourty-five', 'five hundred and fourty-six', 'five hundred and fourty-seven', 'five hundred and fourty-eight', 'five hundred and fourty-nine', 'five hundred and fifty', 'five hundred and fifty-one', 'five hundred and fifty-two', 'five hundred and fifty-three', 'five hundred and fifty-four', 'five hundred and fifty-five', 'five hundred and fifty-six', 'five hundred and fifty-seven', 'five hundred and fifty-eight', 'five hundred and fifty-nine', 'five hundred and sixty', 'five hundred and sixty-one', 'five hundred and sixty-two', 'five hundred and sixty-three', 'five hundred and sixty-four', 'five hundred and sixty-five', 'five hundred and sixty-six', 'five hundred and sixty-seven', 'five hundred and sixty-eight', 'five hundred and sixty-nine', 'five hundred and seventy', 'five hundred and seventy-one', 'five hundred and seventy-two', 'five hundred and seventy-three', 'five hundred and seventy-four', 'five hundred and seventy-five', 'five hundred and seventy-six', 'five hundred and seventy-seven', 'five hundred and seventy-eight', 'five hundred and seventy-nine', 'five hundred and eighty', 'five hundred and eighty-one', 'five hundred and eighty-two', 'five hundred and eighty-three', 'five hundred and eighty-four', 'five hundred and eighty-five', 'five hundred and eighty-six', 'five hundred and eighty-seven', 'five hundred and eighty-eight', 'five hundred and eighty-nine', 'five hundred and ninety', 'five hundred and ninety-one', 'five hundred and ninety-two', 'five hundred and ninety-three', 'five hundred and ninety-four', 'five hundred and ninety-five', 'five hundred and ninety-six', 'five hundred and ninety-seven', 'five hundred and ninety-eight', 'five hundred and ninety-nine', 'six hundred', 'six hundred and one', 'six hundred and two', 'six hundred and three', 'six hundred and four', 'six hundred and five', 'six hundred and six', 'six hundred and seven', 'six hundred and eight', 'six hundred and nine', 'six hundred and ten', 'six hundred and eleven', 'six hundred and twelve', 'six hundred and thirteen', 'six hundred and fourteen', 'six hundred and fifteen', 'six hundred and sixteen', 'six hundred and seventeen', 'six hundred and eighteen', 'six hundred and nineteen', 'six hundred and twenty', 'six hundred and twenty-one', 'six hundred and twenty-two', 'six hundred and twenty-three', 'six hundred and twenty-four', 'six hundred and twenty-five', 'six hundred and twenty-six', 'six hundred and twenty-seven', 'six hundred and twenty-eight', 'six hundred and twenty-nine', 'six hundred and thirty', 'six hundred and thirty-one', 'six hundred and thirty-two', 'six hundred and thirty-three', 'six hundred and thirty-four', 'six hundred and thirty-five', 'six hundred and thirty-six', 'six hundred and thirty-seven', 'six hundred and thirty-eight', 'six hundred and thirty-nine', 'six hundred and fourty', 'six hundred and fourty-one', 'six hundred and fourty-two', 'six hundred and fourty-three', 'six hundred and fourty-four', 'six hundred and fourty-five', 'six hundred and fourty-six', 'six hundred and fourty-seven', 'six hundred and fourty-eight', 'six hundred and fourty-nine', 'six hundred and fifty', 'six hundred and fifty-one', 'six hundred and fifty-two', 'six hundred and fifty-three', 'six hundred and fifty-four', 'six hundred and fifty-five', 'six hundred and fifty-six', 'six hundred and fifty-seven', 'six hundred and fifty-eight', 'six hundred and fifty-nine', 'six hundred and sixty', 'six hundred and sixty-one', 'six hundred and sixty-two', 'six hundred and sixty-three', 'six hundred and sixty-four', 'six hundred and sixty-five', 'six hundred and sixty-six', 'six hundred and sixty-seven', 'six hundred and sixty-eight', 'six hundred and sixty-nine', 'six hundred and seventy', 'six hundred and seventy-one', 'six hundred and seventy-two', 'six hundred and seventy-three', 'six hundred and seventy-four', 'six hundred and seventy-five', 'six hundred and seventy-six', 'six hundred and seventy-seven', 'six hundred and seventy-eight', 'six hundred and seventy-nine', 'six hundred and eighty', 'six hundred and eighty-one', 'six hundred and eighty-two', 'six hundred and eighty-three', 'six hundred and eighty-four', 'six hundred and eighty-five', 'six hundred and eighty-six', 'six hundred and eighty-seven', 'six hundred and eighty-eight', 'six hundred and eighty-nine', 'six hundred and ninety', 'six hundred and ninety-one', 'six hundred and ninety-two', 'six hundred and ninety-three', 'six hundred and ninety-four', 'six hundred and ninety-five', 'six hundred and ninety-six', 'six hundred and ninety-seven', 'six hundred and ninety-eight', 'six hundred and ninety-nine', 'seven hundred', 'seven hundred and one', 'seven hundred and two', 'seven hundred and three', 'seven hundred and four', 'seven hundred and five', 'seven hundred and six', 'seven hundred and seven', 'seven hundred and eight', 'seven hundred and nine', 'seven hundred and ten', 'seven hundred and eleven', 'seven hundred and twelve', 'seven hundred and thirteen', 'seven hundred and fourteen', 'seven hundred and fifteen', 'seven hundred and sixteen', 'seven hundred and seventeen', 'seven hundred and eighteen', 'seven hundred and nineteen', 'seven hundred and twenty', 'seven hundred and twenty-one', 'seven hundred and twenty-two', 'seven hundred and twenty-three', 'seven hundred and twenty-four', 'seven hundred and twenty-five', 'seven hundred and twenty-six', 'seven hundred and twenty-seven', 'seven hundred and twenty-eight', 'seven hundred and twenty-nine', 'seven hundred and thirty', 'seven hundred and thirty-one', 'seven hundred and thirty-two', 'seven hundred and thirty-three', 'seven hundred and thirty-four', 'seven hundred and thirty-five', 'seven hundred and thirty-six', 'seven hundred and thirty-seven', 'seven hundred and thirty-eight', 'seven hundred and thirty-nine', 'seven hundred and fourty', 'seven hundred and fourty-one', 'seven hundred and fourty-two', 'seven hundred and fourty-three', 'seven hundred and fourty-four', 'seven hundred and fourty-five', 'seven hundred and fourty-six', 'seven hundred and fourty-seven', 'seven hundred and fourty-eight', 'seven hundred and fourty-nine', 'seven hundred and fifty', 'seven hundred and fifty-one', 'seven hundred and fifty-two', 'seven hundred and fifty-three', 'seven hundred and fifty-four', 'seven hundred and fifty-five', 'seven hundred and fifty-six', 'seven hundred and fifty-seven', 'seven hundred and fifty-eight', 'seven hundred and fifty-nine', 'seven hundred and sixty', 'seven hundred and sixty-one', 'seven hundred and sixty-two', 'seven hundred and sixty-three', 'seven hundred and sixty-four', 'seven hundred and sixty-five', 'seven hundred and sixty-six', 'seven hundred and sixty-seven', 'seven hundred and sixty-eight', 'seven hundred and sixty-nine', 'seven hundred and seventy', 'seven hundred and seventy-one', 'seven hundred and seventy-two', 'seven hundred and seventy-three', 'seven hundred and seventy-four', 'seven hundred and seventy-five', 'seven hundred and seventy-six', 'seven hundred and seventy-seven', 'seven hundred and seventy-eight', 'seven hundred and seventy-nine', 'seven hundred and eighty', 'seven hundred and eighty-one', 'seven hundred and eighty-two', 'seven hundred and eighty-three', 'seven hundred and eighty-four', 'seven hundred and eighty-five', 'seven hundred and eighty-six', 'seven hundred and eighty-seven', 'seven hundred and eighty-eight', 'seven hundred and eighty-nine', 'seven hundred and ninety', 'seven hundred and ninety-one', 'seven hundred and ninety-two', 'seven hundred and ninety-three', 'seven hundred and ninety-four', 'seven hundred and ninety-five', 'seven hundred and ninety-six', 'seven hundred and ninety-seven', 'seven hundred and ninety-eight', 'seven hundred and ninety-nine', 'eight hundred', 'eight hundred and one', 'eight hundred and two', 'eight hundred and three', 'eight hundred and four', 'eight hundred and five', 'eight hundred and six', 'eight hundred and seven', 'eight hundred and eight', 'eight hundred and nine', 'eight hundred and ten', 'eight hundred and eleven', 'eight hundred and twelve', 'eight hundred and thirteen', 'eight hundred and fourteen', 'eight hundred and fifteen', 'eight hundred and sixteen', 'eight hundred and seventeen', 'eight hundred and eighteen', 'eight hundred and nineteen', 'eight hundred and twenty', 'eight hundred and twenty-one', 'eight hundred and twenty-two', 'eight hundred and twenty-three', 'eight hundred and twenty-four', 'eight hundred and twenty-five', 'eight hundred and twenty-six', 'eight hundred and twenty-seven', 'eight hundred and twenty-eight', 'eight hundred and twenty-nine', 'eight hundred and thirty', 'eight hundred and thirty-one', 'eight hundred and thirty-two', 'eight hundred and thirty-three', 'eight hundred and thirty-four', 'eight hundred and thirty-five', 'eight hundred and thirty-six', 'eight hundred and thirty-seven', 'eight hundred and thirty-eight', 'eight hundred and thirty-nine', 'eight hundred and fourty', 'eight hundred and fourty-one', 'eight hundred and fourty-two', 'eight hundred and fourty-three', 'eight hundred and fourty-four', 'eight hundred and fourty-five', 'eight hundred and fourty-six', 'eight hundred and fourty-seven', 'eight hundred and fourty-eight', 'eight hundred and fourty-nine', 'eight hundred and fifty', 'eight hundred and fifty-one', 'eight hundred and fifty-two', 'eight hundred and fifty-three', 'eight hundred and fifty-four', 'eight hundred and fifty-five', 'eight hundred and fifty-six', 'eight hundred and fifty-seven', 'eight hundred and fifty-eight', 'eight hundred and fifty-nine', 'eight hundred and sixty', 'eight hundred and sixty-one', 'eight hundred and sixty-two', 'eight hundred and sixty-three', 'eight hundred and sixty-four', 'eight hundred and sixty-five', 'eight hundred and sixty-six', 'eight hundred and sixty-seven', 'eight hundred and sixty-eight', 'eight hundred and sixty-nine', 'eight hundred and seventy', 'eight hundred and seventy-one', 'eight hundred and seventy-two', 'eight hundred and seventy-three', 'eight hundred and seventy-four', 'eight hundred and seventy-five', 'eight hundred and seventy-six', 'eight hundred and seventy-seven', 'eight hundred and seventy-eight', 'eight hundred and seventy-nine', 'eight hundred and eighty', 'eight hundred and eighty-one', 'eight hundred and eighty-two', 'eight hundred and eighty-three', 'eight hundred and eighty-four', 'eight hundred and eighty-five', 'eight hundred and eighty-six', 'eight hundred and eighty-seven', 'eight hundred and eighty-eight', 'eight hundred and eighty-nine', 'eight hundred and ninety', 'eight hundred and ninety-one', 'eight hundred and ninety-two', 'eight hundred and ninety-three', 'eight hundred and ninety-four', 'eight hundred and ninety-five', 'eight hundred and ninety-six', 'eight hundred and ninety-seven', 'eight hundred and ninety-eight', 'eight hundred and ninety-nine', 'nine hundred', 'nine hundred and one', 'nine hundred and two', 'nine hundred and three', 'nine hundred and four', 'nine hundred and five', 'nine hundred and six', 'nine hundred and seven', 'nine hundred and eight', 'nine hundred and nine', 'nine hundred and ten', 'nine hundred and eleven', 'nine hundred and twelve', 'nine hundred and thirteen', 'nine hundred and fourteen', 'nine hundred and fifteen', 'nine hundred and sixteen', 'nine hundred and seventeen', 'nine hundred and eighteen', 'nine hundred and nineteen', 'nine hundred and twenty', 'nine hundred and twenty-one', 'nine hundred and twenty-two', 'nine hundred and twenty-three', 'nine hundred and twenty-four', 'nine hundred and twenty-five', 'nine hundred and twenty-six', 'nine hundred and twenty-seven', 'nine hundred and twenty-eight', 'nine hundred and twenty-nine', 'nine hundred and thirty', 'nine hundred and thirty-one', 'nine hundred and thirty-two', 'nine hundred and thirty-three', 'nine hundred and thirty-four', 'nine hundred and thirty-five', 'nine hundred and thirty-six', 'nine hundred and thirty-seven', 'nine hundred and thirty-eight', 'nine hundred and thirty-nine', 'nine hundred and fourty', 'nine hundred and fourty-one', 'nine hundred and fourty-two', 'nine hundred and fourty-three', 'nine hundred and fourty-four', 'nine hundred and fourty-five', 'nine hundred and fourty-six', 'nine hundred and fourty-seven', 'nine hundred and fourty-eight', 'nine hundred and fourty-nine', 'nine hundred and fifty', 'nine hundred and fifty-one', 'nine hundred and fifty-two', 'nine hundred and fifty-three', 'nine hundred and fifty-four', 'nine hundred and fifty-five', 'nine hundred and fifty-six', 'nine hundred and fifty-seven', 'nine hundred and fifty-eight', 'nine hundred and fifty-nine', 'nine hundred and sixty', 'nine hundred and sixty-one', 'nine hundred and sixty-two', 'nine hundred and sixty-three', 'nine hundred and sixty-four', 'nine hundred and sixty-five', 'nine hundred and sixty-six', 'nine hundred and sixty-seven', 'nine hundred and sixty-eight', 'nine hundred and sixty-nine', 'nine hundred and seventy', 'nine hundred and seventy-one', 'nine hundred and seventy-two', 'nine hundred and seventy-three', 'nine hundred and seventy-four', 'nine hundred and seventy-five', 'nine hundred and seventy-six', 'nine hundred and seventy-seven', 'nine hundred and seventy-eight', 'nine hundred and seventy-nine', 'nine hundred and eighty', 'nine hundred and eighty-one', 'nine hundred and eighty-two', 'nine hundred and eighty-three', 'nine hundred and eighty-four', 'nine hundred and eighty-five', 'nine hundred and eighty-six', 'nine hundred and eighty-seven', 'nine hundred and eighty-eight', 'nine hundred and eighty-nine', 'nine hundred and ninety', 'nine hundred and ninety-one', 'nine hundred and ninety-two', 'nine hundred and ninety-three', 'nine hundred and ninety-four', 'nine hundred and ninety-five', 'nine hundred and ninety-six', 'nine hundred and ninety-seven', 'nine hundred and ninety-eight', 'nine hundred and ninety-nine', 'one thousand'] 21224 onetwothreefourfivesixseveneightnineteneleventwelvethirteenfourteenfifteensixteenseventeeneighteennineteentwentytwentyonetwentytwotwentythreetwentyfourtwentyfivetwentysixtwentyseventwentyeighttwentyninethirtythirtyonethirtytwothirtythreethirtyfourthirtyfivethirtysixthirtyseventhirtyeightthirtyninefourtyfourtyonefourtytwofourtythreefourtyfourfourtyfivefourtysixfourtysevenfourtyeightfourtyninefiftyfiftyonefiftytwofiftythreefiftyfourfiftyfivefiftysixfiftysevenfiftyeightfiftyninesixtysixtyonesixtytwosixtythreesixtyfoursixtyfivesixtysixsixtysevensixtyeightsixtynineseventyseventyoneseventytwoseventythreeseventyfourseventyfiveseventysixseventysevenseventyeightseventynineeightyeightyoneeightytwoeightythreeeightyfoureightyfiveeightysixeightyseveneightyeighteightynineninetyninetyoneninetytwoninetythreeninetyfourninetyfiveninetysixninetysevenninetyeightninetynineonehundredonehundredandoneonehundredandtwoonehundredandthreeonehundredandfouronehundredandfiveonehundredandsixonehundredandsevenonehundredandeightonehundredandnineonehundredandtenonehundredandelevenonehundredandtwelveonehundredandthirteenonehundredandfourteenonehundredandfifteenonehundredandsixteenonehundredandseventeenonehundredandeighteenonehundredandnineteenonehundredandtwentyonehundredandtwentyoneonehundredandtwentytwoonehundredandtwentythreeonehundredandtwentyfouronehundredandtwentyfiveonehundredandtwentysixonehundredandtwentysevenonehundredandtwentyeightonehundredandtwentynineonehundredandthirtyonehundredandthirtyoneonehundredandthirtytwoonehundredandthirtythreeonehundredandthirtyfouronehundredandthirtyfiveonehundredandthirtysixonehundredandthirtysevenonehundredandthirtyeightonehundredandthirtynineonehundredandfourtyonehundredandfourtyoneonehundredandfourtytwoonehundredandfourtythreeonehundredandfourtyfouronehundredandfourtyfiveonehundredandfourtysixonehundredandfourtysevenonehundredandfourtyeightonehundredandfourtynineonehundredandfiftyonehundredandfiftyoneonehundredandfiftytwoonehundredandfiftythreeonehundredandfiftyfouronehundredandfiftyfiveonehundredandfiftysixonehundredandfiftysevenonehundredandfiftyeightonehundredandfiftynineonehundredandsixtyonehundredandsixtyoneonehundredandsixtytwoonehundredandsixtythreeonehundredandsixtyfouronehundredandsixtyfiveonehundredandsixtysixonehundredandsixtysevenonehundredandsixtyeightonehundredandsixtynineonehundredandseventyonehundredandseventyoneonehundredandseventytwoonehundredandseventythreeonehundredandseventyfouronehundredandseventyfiveonehundredandseventysixonehundredandseventysevenonehundredandseventyeightonehundredandseventynineonehundredandeightyonehundredandeightyoneonehundredandeightytwoonehundredandeightythreeonehundredandeightyfouronehundredandeightyfiveonehundredandeightysixonehundredandeightysevenonehundredandeightyeightonehundredandeightynineonehundredandninetyonehundredandninetyoneonehundredandninetytwoonehundredandninetythreeonehundredandninetyfouronehundredandninetyfiveonehundredandninetysixonehundredandninetysevenonehundredandninetyeightonehundredandninetyninetwohundredtwohundredandonetwohundredandtwotwohundredandthreetwohundredandfourtwohundredandfivetwohundredandsixtwohundredandseventwohundredandeighttwohundredandninetwohundredandtentwohundredandeleventwohundredandtwelvetwohundredandthirteentwohundredandfourteentwohundredandfifteentwohundredandsixteentwohundredandseventeentwohundredandeighteentwohundredandnineteentwohundredandtwentytwohundredandtwentyonetwohundredandtwentytwotwohundredandtwentythreetwohundredandtwentyfourtwohundredandtwentyfivetwohundredandtwentysixtwohundredandtwentyseventwohundredandtwentyeighttwohundredandtwentyninetwohundredandthirtytwohundredandthirtyonetwohundredandthirtytwotwohundredandthirtythreetwohundredandthirtyfourtwohundredandthirtyfivetwohundredandthirtysixtwohundredandthirtyseventwohundredandthirtyeighttwohundredandthirtyninetwohundredandfourtytwohundredandfourtyonetwohundredandfourtytwotwohundredandfourtythreetwohundredandfourtyfourtwohundredandfourtyfivetwohundredandfourtysixtwohundredandfourtyseventwohundredandfourtyeighttwohundredandfourtyninetwohundredandfiftytwohundredandfiftyonetwohundredandfiftytwotwohundredandfiftythreetwohundredandfiftyfourtwohundredandfiftyfivetwohundredandfiftysixtwohundredandfiftyseventwohundredandfiftyeighttwohundredandfiftyninetwohundredandsixtytwohundredandsixtyonetwohundredandsixtytwotwohundredandsixtythreetwohundredandsixtyfourtwohundredandsixtyfivetwohundredandsixtysixtwohundredandsixtyseventwohundredandsixtyeighttwohundredandsixtyninetwohundredandseventytwohundredandseventyonetwohundredandseventytwotwohundredandseventythreetwohundredandseventyfourtwohundredandseventyfivetwohundredandseventysixtwohundredandseventyseventwohundredandseventyeighttwohundredandseventyninetwohundredandeightytwohundredandeightyonetwohundredandeightytwotwohundredandeightythreetwohundredandeightyfourtwohundredandeightyfivetwohundredandeightysixtwohundredandeightyseventwohundredandeightyeighttwohundredandeightyninetwohundredandninetytwohundredandninetyonetwohundredandninetytwotwohundredandninetythreetwohundredandninetyfourtwohundredandninetyfivetwohundredandninetysixtwohundredandninetyseventwohundredandninetyeighttwohundredandninetyninethreehundredthreehundredandonethreehundredandtwothreehundredandthreethreehundredandfourthreehundredandfivethreehundredandsixthreehundredandseventhreehundredandeightthreehundredandninethreehundredandtenthreehundredandeleventhreehundredandtwelvethreehundredandthirteenthreehundredandfourteenthreehundredandfifteenthreehundredandsixteenthreehundredandseventeenthreehundredandeighteenthreehundredandnineteenthreehundredandtwentythreehundredandtwentyonethreehundredandtwentytwothreehundredandtwentythreethreehundredandtwentyfourthreehundredandtwentyfivethreehundredandtwentysixthreehundredandtwentyseventhreehundredandtwentyeightthreehundredandtwentyninethreehundredandthirtythreehundredandthirtyonethreehundredandthirtytwothreehundredandthirtythreethreehundredandthirtyfourthreehundredandthirtyfivethreehundredandthirtysixthreehundredandthirtyseventhreehundredandthirtyeightthreehundredandthirtyninethreehundredandfourtythreehundredandfourtyonethreehundredandfourtytwothreehundredandfourtythreethreehundredandfourtyfourthreehundredandfourtyfivethreehundredandfourtysixthreehundredandfourtyseventhreehundredandfourtyeightthreehundredandfourtyninethreehundredandfiftythreehundredandfiftyonethreehundredandfiftytwothreehundredandfiftythreethreehundredandfiftyfourthreehundredandfiftyfivethreehundredandfiftysixthreehundredandfiftyseventhreehundredandfiftyeightthreehundredandfiftyninethreehundredandsixtythreehundredandsixtyonethreehundredandsixtytwothreehundredandsixtythreethreehundredandsixtyfourthreehundredandsixtyfivethreehundredandsixtysixthreehundredandsixtyseventhreehundredandsixtyeightthreehundredandsixtyninethreehundredandseventythreehundredandseventyonethreehundredandseventytwothreehundredandseventythreethreehundredandseventyfourthreehundredandseventyfivethreehundredandseventysixthreehundredandseventyseventhreehundredandseventyeightthreehundredandseventyninethreehundredandeightythreehundredandeightyonethreehundredandeightytwothreehundredandeightythreethreehundredandeightyfourthreehundredandeightyfivethreehundredandeightysixthreehundredandeightyseventhreehundredandeightyeightthreehundredandeightyninethreehundredandninetythreehundredandninetyonethreehundredandninetytwothreehundredandninetythreethreehundredandninetyfourthreehundredandninetyfivethreehundredandninetysixthreehundredandninetyseventhreehundredandninetyeightthreehundredandninetyninefourhundredfourhundredandonefourhundredandtwofourhundredandthreefourhundredandfourfourhundredandfivefourhundredandsixfourhundredandsevenfourhundredandeightfourhundredandninefourhundredandtenfourhundredandelevenfourhundredandtwelvefourhundredandthirteenfourhundredandfourteenfourhundredandfifteenfourhundredandsixteenfourhundredandseventeenfourhundredandeighteenfourhundredandnineteenfourhundredandtwentyfourhundredandtwentyonefourhundredandtwentytwofourhundredandtwentythreefourhundredandtwentyfourfourhundredandtwentyfivefourhundredandtwentysixfourhundredandtwentysevenfourhundredandtwentyeightfourhundredandtwentyninefourhundredandthirtyfourhundredandthirtyonefourhundredandthirtytwofourhundredandthirtythreefourhundredandthirtyfourfourhundredandthirtyfivefourhundredandthirtysixfourhundredandthirtysevenfourhundredandthirtyeightfourhundredandthirtyninefourhundredandfourtyfourhundredandfourtyonefourhundredandfourtytwofourhundredandfourtythreefourhundredandfourtyfourfourhundredandfourtyfivefourhundredandfourtysixfourhundredandfourtysevenfourhundredandfourtyeightfourhundredandfourtyninefourhundredandfiftyfourhundredandfiftyonefourhundredandfiftytwofourhundredandfiftythreefourhundredandfiftyfourfourhundredandfiftyfivefourhundredandfiftysixfourhundredandfiftysevenfourhundredandfiftyeightfourhundredandfiftyninefourhundredandsixtyfourhundredandsixtyonefourhundredandsixtytwofourhundredandsixtythreefourhundredandsixtyfourfourhundredandsixtyfivefourhundredandsixtysixfourhundredandsixtysevenfourhundredandsixtyeightfourhundredandsixtyninefourhundredandseventyfourhundredandseventyonefourhundredandseventytwofourhundredandseventythreefourhundredandseventyfourfourhundredandseventyfivefourhundredandseventysixfourhundredandseventysevenfourhundredandseventyeightfourhundredandseventyninefourhundredandeightyfourhundredandeightyonefourhundredandeightytwofourhundredandeightythreefourhundredandeightyfourfourhundredandeightyfivefourhundredandeightysixfourhundredandeightysevenfourhundredandeightyeightfourhundredandeightyninefourhundredandninetyfourhundredandninetyonefourhundredandninetytwofourhundredandninetythreefourhundredandninetyfourfourhundredandninetyfivefourhundredandninetysixfourhundredandninetysevenfourhundredandninetyeightfourhundredandninetyninefivehundredfivehundredandonefivehundredandtwofivehundredandthreefivehundredandfourfivehundredandfivefivehundredandsixfivehundredandsevenfivehundredandeightfivehundredandninefivehundredandtenfivehundredandelevenfivehundredandtwelvefivehundredandthirteenfivehundredandfourteenfivehundredandfifteenfivehundredandsixteenfivehundredandseventeenfivehundredandeighteenfivehundredandnineteenfivehundredandtwentyfivehundredandtwentyonefivehundredandtwentytwofivehundredandtwentythreefivehundredandtwentyfourfivehundredandtwentyfivefivehundredandtwentysixfivehundredandtwentysevenfivehundredandtwentyeightfivehundredandtwentyninefivehundredandthirtyfivehundredandthirtyonefivehundredandthirtytwofivehundredandthirtythreefivehundredandthirtyfourfivehundredandthirtyfivefivehundredandthirtysixfivehundredandthirtysevenfivehundredandthirtyeightfivehundredandthirtyninefivehundredandfourtyfivehundredandfourtyonefivehundredandfourtytwofivehundredandfourtythreefivehundredandfourtyfourfivehundredandfourtyfivefivehundredandfourtysixfivehundredandfourtysevenfivehundredandfourtyeightfivehundredandfourtyninefivehundredandfiftyfivehundredandfiftyonefivehundredandfiftytwofivehundredandfiftythreefivehundredandfiftyfourfivehundredandfiftyfivefivehundredandfiftysixfivehundredandfiftysevenfivehundredandfiftyeightfivehundredandfiftyninefivehundredandsixtyfivehundredandsixtyonefivehundredandsixtytwofivehundredandsixtythreefivehundredandsixtyfourfivehundredandsixtyfivefivehundredandsixtysixfivehundredandsixtysevenfivehundredandsixtyeightfivehundredandsixtyninefivehundredandseventyfivehundredandseventyonefivehundredandseventytwofivehundredandseventythreefivehundredandseventyfourfivehundredandseventyfivefivehundredandseventysixfivehundredandseventysevenfivehundredandseventyeightfivehundredandseventyninefivehundredandeightyfivehundredandeightyonefivehundredandeightytwofivehundredandeightythreefivehundredandeightyfourfivehundredandeightyfivefivehundredandeightysixfivehundredandeightysevenfivehundredandeightyeightfivehundredandeightyninefivehundredandninetyfivehundredandninetyonefivehundredandninetytwofivehundredandninetythreefivehundredandninetyfourfivehundredandninetyfivefivehundredandninetysixfivehundredandninetysevenfivehundredandninetyeightfivehundredandninetyninesixhundredsixhundredandonesixhundredandtwosixhundredandthreesixhundredandfoursixhundredandfivesixhundredandsixsixhundredandsevensixhundredandeightsixhundredandninesixhundredandtensixhundredandelevensixhundredandtwelvesixhundredandthirteensixhundredandfourteensixhundredandfifteensixhundredandsixteensixhundredandseventeensixhundredandeighteensixhundredandnineteensixhundredandtwentysixhundredandtwentyonesixhundredandtwentytwosixhundredandtwentythreesixhundredandtwentyfoursixhundredandtwentyfivesixhundredandtwentysixsixhundredandtwentysevensixhundredandtwentyeightsixhundredandtwentyninesixhundredandthirtysixhundredandthirtyonesixhundredandthirtytwosixhundredandthirtythreesixhundredandthirtyfoursixhundredandthirtyfivesixhundredandthirtysixsixhundredandthirtysevensixhundredandthirtyeightsixhundredandthirtyninesixhundredandfourtysixhundredandfourtyonesixhundredandfourtytwosixhundredandfourtythreesixhundredandfourtyfoursixhundredandfourtyfivesixhundredandfourtysixsixhundredandfourtysevensixhundredandfourtyeightsixhundredandfourtyninesixhundredandfiftysixhundredandfiftyonesixhundredandfiftytwosixhundredandfiftythreesixhundredandfiftyfoursixhundredandfiftyfivesixhundredandfiftysixsixhundredandfiftysevensixhundredandfiftyeightsixhundredandfiftyninesixhundredandsixtysixhundredandsixtyonesixhundredandsixtytwosixhundredandsixtythreesixhundredandsixtyfoursixhundredandsixtyfivesixhundredandsixtysixsixhundredandsixtysevensixhundredandsixtyeightsixhundredandsixtyninesixhundredandseventysixhundredandseventyonesixhundredandseventytwosixhundredandseventythreesixhundredandseventyfoursixhundredandseventyfivesixhundredandseventysixsixhundredandseventysevensixhundredandseventyeightsixhundredandseventyninesixhundredandeightysixhundredandeightyonesixhundredandeightytwosixhundredandeightythreesixhundredandeightyfoursixhundredandeightyfivesixhundredandeightysixsixhundredandeightysevensixhundredandeightyeightsixhundredandeightyninesixhundredandninetysixhundredandninetyonesixhundredandninetytwosixhundredandninetythreesixhundredandninetyfoursixhundredandninetyfivesixhundredandninetysixsixhundredandninetysevensixhundredandninetyeightsixhundredandninetyninesevenhundredsevenhundredandonesevenhundredandtwosevenhundredandthreesevenhundredandfoursevenhundredandfivesevenhundredandsixsevenhundredandsevensevenhundredandeightsevenhundredandninesevenhundredandtensevenhundredandelevensevenhundredandtwelvesevenhundredandthirteensevenhundredandfourteensevenhundredandfifteensevenhundredandsixteensevenhundredandseventeensevenhundredandeighteensevenhundredandnineteensevenhundredandtwentysevenhundredandtwentyonesevenhundredandtwentytwosevenhundredandtwentythreesevenhundredandtwentyfoursevenhundredandtwentyfivesevenhundredandtwentysixsevenhundredandtwentysevensevenhundredandtwentyeightsevenhundredandtwentyninesevenhundredandthirtysevenhundredandthirtyonesevenhundredandthirtytwosevenhundredandthirtythreesevenhundredandthirtyfoursevenhundredandthirtyfivesevenhundredandthirtysixsevenhundredandthirtysevensevenhundredandthirtyeightsevenhundredandthirtyninesevenhundredandfourtysevenhundredandfourtyonesevenhundredandfourtytwosevenhundredandfourtythreesevenhundredandfourtyfoursevenhundredandfourtyfivesevenhundredandfourtysixsevenhundredandfourtysevensevenhundredandfourtyeightsevenhundredandfourtyninesevenhundredandfiftysevenhundredandfiftyonesevenhundredandfiftytwosevenhundredandfiftythreesevenhundredandfiftyfoursevenhundredandfiftyfivesevenhundredandfiftysixsevenhundredandfiftysevensevenhundredandfiftyeightsevenhundredandfiftyninesevenhundredandsixtysevenhundredandsixtyonesevenhundredandsixtytwosevenhundredandsixtythreesevenhundredandsixtyfoursevenhundredandsixtyfivesevenhundredandsixtysixsevenhundredandsixtysevensevenhundredandsixtyeightsevenhundredandsixtyninesevenhundredandseventysevenhundredandseventyonesevenhundredandseventytwosevenhundredandseventythreesevenhundredandseventyfoursevenhundredandseventyfivesevenhundredandseventysixsevenhundredandseventysevensevenhundredandseventyeightsevenhundredandseventyninesevenhundredandeightysevenhundredandeightyonesevenhundredandeightytwosevenhundredandeightythreesevenhundredandeightyfoursevenhundredandeightyfivesevenhundredandeightysixsevenhundredandeightysevensevenhundredandeightyeightsevenhundredandeightyninesevenhundredandninetysevenhundredandninetyonesevenhundredandninetytwosevenhundredandninetythreesevenhundredandninetyfoursevenhundredandninetyfivesevenhundredandninetysixsevenhundredandninetysevensevenhundredandninetyeightsevenhundredandninetynineeighthundredeighthundredandoneeighthundredandtwoeighthundredandthreeeighthundredandfoureighthundredandfiveeighthundredandsixeighthundredandseveneighthundredandeighteighthundredandnineeighthundredandteneighthundredandeleveneighthundredandtwelveeighthundredandthirteeneighthundredandfourteeneighthundredandfifteeneighthundredandsixteeneighthundredandseventeeneighthundredandeighteeneighthundredandnineteeneighthundredandtwentyeighthundredandtwentyoneeighthundredandtwentytwoeighthundredandtwentythreeeighthundredandtwentyfoureighthundredandtwentyfiveeighthundredandtwentysixeighthundredandtwentyseveneighthundredandtwentyeighteighthundredandtwentynineeighthundredandthirtyeighthundredandthirtyoneeighthundredandthirtytwoeighthundredandthirtythreeeighthundredandthirtyfoureighthundredandthirtyfiveeighthundredandthirtysixeighthundredandthirtyseveneighthundredandthirtyeighteighthundredandthirtynineeighthundredandfourtyeighthundredandfourtyoneeighthundredandfourtytwoeighthundredandfourtythreeeighthundredandfourtyfoureighthundredandfourtyfiveeighthundredandfourtysixeighthundredandfourtyseveneighthundredandfourtyeighteighthundredandfourtynineeighthundredandfiftyeighthundredandfiftyoneeighthundredandfiftytwoeighthundredandfiftythreeeighthundredandfiftyfoureighthundredandfiftyfiveeighthundredandfiftysixeighthundredandfiftyseveneighthundredandfiftyeighteighthundredandfiftynineeighthundredandsixtyeighthundredandsixtyoneeighthundredandsixtytwoeighthundredandsixtythreeeighthundredandsixtyfoureighthundredandsixtyfiveeighthundredandsixtysixeighthundredandsixtyseveneighthundredandsixtyeighteighthundredandsixtynineeighthundredandseventyeighthundredandseventyoneeighthundredandseventytwoeighthundredandseventythreeeighthundredandseventyfoureighthundredandseventyfiveeighthundredandseventysixeighthundredandseventyseveneighthundredandseventyeighteighthundredandseventynineeighthundredandeightyeighthundredandeightyoneeighthundredandeightytwoeighthundredandeightythreeeighthundredandeightyfoureighthundredandeightyfiveeighthundredandeightysixeighthundredandeightyseveneighthundredandeightyeighteighthundredandeightynineeighthundredandninetyeighthundredandninetyoneeighthundredandninetytwoeighthundredandninetythreeeighthundredandninetyfoureighthundredandninetyfiveeighthundredandninetysixeighthundredandninetyseveneighthundredandninetyeighteighthundredandninetynineninehundredninehundredandoneninehundredandtwoninehundredandthreeninehundredandfourninehundredandfiveninehundredandsixninehundredandsevenninehundredandeightninehundredandnineninehundredandtenninehundredandelevenninehundredandtwelveninehundredandthirteenninehundredandfourteenninehundredandfifteenninehundredandsixteenninehundredandseventeenninehundredandeighteenninehundredandnineteenninehundredandtwentyninehundredandtwentyoneninehundredandtwentytwoninehundredandtwentythreeninehundredandtwentyfourninehundredandtwentyfiveninehundredandtwentysixninehundredandtwentysevenninehundredandtwentyeightninehundredandtwentynineninehundredandthirtyninehundredandthirtyoneninehundredandthirtytwoninehundredandthirtythreeninehundredandthirtyfourninehundredandthirtyfiveninehundredandthirtysixninehundredandthirtysevenninehundredandthirtyeightninehundredandthirtynineninehundredandfourtyninehundredandfourtyoneninehundredandfourtytwoninehundredandfourtythreeninehundredandfourtyfourninehundredandfourtyfiveninehundredandfourtysixninehundredandfourtysevenninehundredandfourtyeightninehundredandfourtynineninehundredandfiftyninehundredandfiftyoneninehundredandfiftytwoninehundredandfiftythreeninehundredandfiftyfourninehundredandfiftyfiveninehundredandfiftysixninehundredandfiftysevenninehundredandfiftyeightninehundredandfiftynineninehundredandsixtyninehundredandsixtyoneninehundredandsixtytwoninehundredandsixtythreeninehundredandsixtyfourninehundredandsixtyfiveninehundredandsixtysixninehundredandsixtysevenninehundredandsixtyeightninehundredandsixtynineninehundredandseventyninehundredandseventyoneninehundredandseventytwoninehundredandseventythreeninehundredandseventyfourninehundredandseventyfiveninehundredandseventysixninehundredandseventysevenninehundredandseventyeightninehundredandseventynineninehundredandeightyninehundredandeightyoneninehundredandeightytwoninehundredandeightythreeninehundredandeightyfourninehundredandeightyfiveninehundredandeightysixninehundredandeightysevenninehundredandeightyeightninehundredandeightynineninehundredandninetyninehundredandninetyoneninehundredandninetytwoninehundredandninetythreeninehundredandninetyfourninehundredandninetyfiveninehundredandninetysixninehundredandninetysevenninehundredandninetyeightninehundredandninetynineonethousand\n"
     ]
    }
   ],
   "source": [
    "dict_numbers = {'thousands': ['one thousand'],\n",
    "                'hundreds': ['one hundred', 'two hundred', 'three hundred', 'four hundred', 'five hundred', 'six hundred',\n",
    "                             'seven hundred', 'eight hundred', 'nine hundred'],\n",
    "                'dozens': ['twenty', 'thirty', 'fourty', 'fifty', 'sixty', 'seventy', 'eighty', 'ninety'],\n",
    "                'teens': ['ten', 'eleven', 'twelve', 'thirteen', 'fourteen', 'fifteen', 'sixteen',\n",
    "                          'seventeen', 'eighteen', 'nineteen'],\n",
    "                'units': ['one', 'two', 'three', 'four', 'five', 'six', 'seven', 'eight', 'nine']}\n",
    "\n",
    "write_out_words = []\n",
    "for i in range(1, 1001):\n",
    "    n = str(i)\n",
    "    t1 = t2 = t3 = ''\n",
    "    if len(n)==3:\n",
    "        t1 = dict_numbers['hundreds'][int(n[0])-1]\n",
    "        if n[1] == '0':\n",
    "            n = n[2:3]\n",
    "        else:\n",
    "            n = n[1:3]\n",
    "        \n",
    "    if len(n) == 2:\n",
    "        if n[0]=='1':\n",
    "            t2 = dict_numbers['teens'][int(n)-10]\n",
    "            n = ''\n",
    "        else:\n",
    "            t2 = dict_numbers['dozens'][int(n[0])-2]\n",
    "            n = n[1]\n",
    "            \n",
    "    if len(n) == 1:\n",
    "        if n != '0':\n",
    "            t3 = dict_numbers['units'][int(n)-1]\n",
    "    \n",
    "    if i == 1000:\n",
    "        write_out_words.append(dict_numbers['thousands'][0])\n",
    "        break\n",
    "    \n",
    "    if t1 != '':\n",
    "        if (t2 == '') and (t3 == ''):\n",
    "            write_out_words.append(t1)\n",
    "        elif t2 == '':\n",
    "            write_out_words.append(' '.join([t1, 'and', t3]))\n",
    "        elif t3 == '':\n",
    "            write_out_words.append(' '.join([t1, 'and', t2]))\n",
    "        else:\n",
    "            t2 = ''.join([t2, '-', t3])\n",
    "            write_out_words.append(' '.join([t1, 'and', t2]))\n",
    "    elif t2 != '':\n",
    "        if t3 == '':\n",
    "            write_out_words.append(t2)\n",
    "        else:\n",
    "            write_out_words.append(''.join([t2, '-', t3]))\n",
    "    else:\n",
    "        write_out_words.append(t3)\n",
    "\n",
    "letters = ''.join(write_out_words).split()\n",
    "letters = ''.join(letters).split('-')\n",
    "letters = ''.join(letters)\n",
    "\n",
    "print(write_out_words, len(letters), letters)"
   ]
  },
  {
   "cell_type": "markdown",
   "metadata": {},
   "source": [
    "5. \n",
    "\n",
    "You are given the following information, but you may prefer to do some research for yourself.\n",
    "\n",
    "    1 Jan 1900 was a Monday.\n",
    "    Thirty days has September,\n",
    "    April, June and November.\n",
    "    All the rest have thirty-one,\n",
    "    Saving February alone,\n",
    "    Which has twenty-eight, rain or shine.\n",
    "    And on leap years, twenty-nine.\n",
    "    A leap year occurs on any year evenly divisible by 4, but not on a century unless it is divisible by 400.\n",
    "\n",
    "How many Sundays fell on the first of the month during the twentieth century (1 Jan 1901 to 31 Dec 2000)?\n"
   ]
  },
  {
   "cell_type": "code",
   "execution_count": null,
   "metadata": {},
   "outputs": [],
   "source": []
  },
  {
   "cell_type": "markdown",
   "metadata": {},
   "source": [
    "6. \n",
    "\n",
    "n! means n × (n − 1) × ... × 3 × 2 × 1\n",
    "\n",
    "For example, 10! = 10 × 9 × ... × 3 × 2 × 1 = 3628800,\n",
    "and the sum of the digits in the number 10! is 3 + 6 + 2 + 8 + 8 + 0 + 0 = 27.\n",
    "\n",
    "Find the sum of the digits in the number 100!\n"
   ]
  },
  {
   "cell_type": "code",
   "execution_count": 58,
   "metadata": {},
   "outputs": [
    {
     "name": "stdout",
     "output_type": "stream",
     "text": [
      "100! = 93326215443944152681699238856266700490715968264381621468592963895217599993229915608941463976156518286253697920827223758251185210916864000000000000000000000000\n",
      "The sum of the digits of the result of 100! = 648\n"
     ]
    }
   ],
   "source": [
    "fatorial = 1\n",
    "nmb = 100\n",
    "\n",
    "for i in range(nmb, 0, -1):\n",
    "    fatorial *= i\n",
    "\n",
    "sum_fatorial = sum([int(n) for n in str(fatorial)])\n",
    "\n",
    "print(f'{nmb}! = {fatorial}')\n",
    "print(f'The sum of the digits of the result of {nmb}! = {sum_fatorial}')"
   ]
  },
  {
   "cell_type": "markdown",
   "metadata": {},
   "source": [
    "7. \n",
    "\n",
    "Let d(n) be defined as the sum of proper divisors of n (numbers less than n which divide evenly into n).\n",
    "If d(a) = b and d(b) = a, where a ≠ b, then a and b are an amicable pair and each of a and b are called amicable numbers.\n",
    "\n",
    "For example, the proper divisors of 220 are 1, 2, 4, 5, 10, 11, 20, 22, 44, 55 and 110; therefore d(220) = 284. The proper divisors of 284 are 1, 2, 4, 71 and 142; so d(284) = 220.\n",
    "\n",
    "Evaluate the sum of all the amicable numbers under 10000.\n"
   ]
  },
  {
   "cell_type": "code",
   "execution_count": null,
   "metadata": {},
   "outputs": [],
   "source": []
  },
  {
   "cell_type": "markdown",
   "metadata": {},
   "source": [
    "8. \n",
    "\n",
    "A perfect number is a number for which the sum of its proper divisors is exactly equal to the number. For example, the sum of the proper divisors of 28 would be 1 + 2 + 4 + 7 + 14 = 28, which means that 28 is a perfect number.\n",
    "\n",
    "A number n is called deficient if the sum of its proper divisors is less than n and it is called abundant if this sum exceeds n.\n",
    "\n",
    "As 12 is the smallest abundant number, 1 + 2 + 3 + 4 + 6 = 16, the smallest number that can be written as the sum of two abundant numbers is 24. By mathematical analysis, it can be shown that all integers greater than 28123 can be written as the sum of two abundant numbers. However, this upper limit cannot be reduced any further by analysis even though it is known that the greatest number that cannot be expressed as the sum of two abundant numbers is less than this limit.\n",
    "\n",
    "Find the sum of all the positive integers which cannot be written as the sum of two abundant numbers.\n"
   ]
  },
  {
   "cell_type": "code",
   "execution_count": null,
   "metadata": {},
   "outputs": [],
   "source": []
  },
  {
   "cell_type": "markdown",
   "metadata": {},
   "source": [
    "9. \n",
    "\n",
    "A permutation is an ordered arrangement of objects. For example, 3124 is one possible permutation of the digits 1, 2, 3 and 4. If all of the permutations are listed numerically or alphabetically, we call it lexicographic order. The lexicographic permutations of 0, 1 and 2 are:\n",
    "\n",
    "012   021   102   120   201   210\n",
    "\n",
    "What is the millionth lexicographic permutation of the digits 0, 1, 2, 3, 4, 5, 6, 7, 8 and 9?\n"
   ]
  },
  {
   "cell_type": "code",
   "execution_count": null,
   "metadata": {},
   "outputs": [],
   "source": []
  },
  {
   "cell_type": "markdown",
   "metadata": {},
   "source": [
    "10. \n",
    "\n",
    "A unit fraction contains 1 in the numerator. The decimal representation of the unit fractions with denominators 2 to 10 are given:\n",
    "\n",
    "    1/2\t= \t0.5\n",
    "    1/3\t= \t0.(3)\n",
    "    1/4\t= \t0.25\n",
    "    1/5\t= \t0.2\n",
    "    1/6\t= \t0.1(6)\n",
    "    1/7\t= \t0.(142857)\n",
    "    1/8\t= \t0.125\n",
    "    1/9\t= \t0.(1)\n",
    "    1/10\t= \t0.1 \n",
    "\n",
    "Where 0.1(6) means 0.166666..., and has a 1-digit recurring cycle. It can be seen that 1/7 has a 6-digit recurring cycle.\n",
    "\n",
    "Find the value of d < 1000 for which 1/d contains the longest recurring cycle in its decimal fraction part.\n"
   ]
  },
  {
   "cell_type": "code",
   "execution_count": null,
   "metadata": {},
   "outputs": [],
   "source": []
  }
 ],
 "metadata": {
  "kernelspec": {
   "display_name": "Python 3 (ipykernel)",
   "language": "python",
   "name": "python3"
  },
  "language_info": {
   "codemirror_mode": {
    "name": "ipython",
    "version": 3
   },
   "file_extension": ".py",
   "mimetype": "text/x-python",
   "name": "python",
   "nbconvert_exporter": "python",
   "pygments_lexer": "ipython3",
   "version": "3.9.13"
  },
  "vscode": {
   "interpreter": {
    "hash": "f7a5be651532581cb44625d52e18aa1d390cab54bc6b51099d8c30bea9b68219"
   }
  }
 },
 "nbformat": 4,
 "nbformat_minor": 2
}
