{
 "cells": [
  {
   "cell_type": "markdown",
   "metadata": {},
   "source": [
    "1. \n",
    "\n",
    "In the United Kingdom the currency is made up of pound (£) and pence (p). There are eight coins in general circulation:\n",
    "\n",
    "    1p, 2p, 5p, 10p, 20p, 50p, £1 (100p), and £2 (200p).\n",
    "\n",
    "It is possible to make £2 in the following way:\n",
    "\n",
    "    1×£1 + 1×50p + 2×20p + 1×5p + 1×2p + 3×1p\n",
    "\n",
    "How many different ways can £2 be made using any number of coins?\n"
   ]
  },
  {
   "cell_type": "code",
   "execution_count": null,
   "metadata": {},
   "outputs": [],
   "source": []
  },
  {
   "cell_type": "markdown",
   "metadata": {},
   "source": [
    "2. \n",
    "\n",
    "We shall say that an n-digit number is pandigital if it makes use of all the digits 1 to n exactly once; for example, the 5-digit number, 15234, is 1 through 5 pandigital.\n",
    "\n",
    "The product 7254 is unusual, as the identity, 39 × 186 = 7254, containing multiplicand, multiplier, and product is 1 through 9 pandigital.\n",
    "\n",
    "Find the sum of all products whose multiplicand/multiplier/product identity can be written as a 1 through 9 pandigital.\n",
    "HINT: Some products can be obtained in more than one way so be sure to only include it once in your sum.\n"
   ]
  },
  {
   "cell_type": "code",
   "execution_count": 18,
   "metadata": {},
   "outputs": [
    {
     "name": "stdout",
     "output_type": "stream",
     "text": [
      "Products: [6952, 7852, 5796, 5346, 4396, 7254, 7632]\n",
      "The sum of all products whose multiplicand/multiplier/product identity can be written as a 1 through 9 pandigital is:\n",
      "45228\n"
     ]
    }
   ],
   "source": [
    "alg = ['1', '2', '3', '4', '5', '6', '7', '8', '9']\n",
    "pan_products = []\n",
    "\n",
    "for i in range(1, 10000):\n",
    "    for j in range(i, 10000):\n",
    "        prod = i*j\n",
    "        aux = str(i)+str(j)+str(prod)\n",
    "        if len(aux) == 9:\n",
    "            itspandigit = True\n",
    "            for a in alg:\n",
    "                if a not in aux:\n",
    "                    itspandigit = False\n",
    "                    break\n",
    "            if itspandigit and (prod not in pan_products):\n",
    "                pan_products.append(prod)\n",
    "        elif len(aux) > 9:\n",
    "            break\n",
    "\n",
    "\n",
    "print(f'Products: {pandigitals}')\n",
    "print(f'The sum of all products whose multiplicand/multiplier/product identity can be written as a 1 through 9 pandigital is:')\n",
    "print(sum(pandigitals))"
   ]
  },
  {
   "cell_type": "markdown",
   "metadata": {},
   "source": [
    "3. \n",
    "\n",
    "The fraction 49/98 is a curious fraction, as an inexperienced mathematician in attempting to simplify it may incorrectly believe that 49/98 = 4/8, which is correct, is obtained by cancelling the 9s.\n",
    "\n",
    "We shall consider fractions like, 30/50 = 3/5, to be trivial examples.\n",
    "\n",
    "There are exactly four non-trivial examples of this type of fraction, less than one in value, and containing two digits in the numerator and denominator.\n",
    "\n",
    "If the product of these four fractions is given in its lowest common terms, find the value of the denominator.\n"
   ]
  },
  {
   "cell_type": "code",
   "execution_count": null,
   "metadata": {},
   "outputs": [],
   "source": []
  },
  {
   "cell_type": "markdown",
   "metadata": {},
   "source": [
    "4. \n",
    "\n",
    "145 is a curious number, as 1! + 4! + 5! = 1 + 24 + 120 = 145.\n",
    "\n",
    "Find the sum of all numbers which are equal to the sum of the factorial of their digits.\n",
    "\n",
    "Note: As 1! = 1 and 2! = 2 are not sums they are not included.\n"
   ]
  },
  {
   "cell_type": "code",
   "execution_count": 14,
   "metadata": {},
   "outputs": [
    {
     "name": "stdout",
     "output_type": "stream",
     "text": [
      "[145, 40585]\n",
      "The sum of the numbers is: 40730\n"
     ]
    }
   ],
   "source": [
    "'''\n",
    "I made the code initially using the UB as 2000000, \n",
    "but, after it, I discovered in https://mathworld.wolfram.com/Factorion.html\n",
    "that there are only two numbers, with these characteristics. \n",
    "Therefore, just to speed up the result, I kept the upper limit of the loop close to the largest number.\n",
    "'''\n",
    "def factorial(n):\n",
    "    fat = 1\n",
    "    for i in range(n, 0, -1):\n",
    "        fat *= i\n",
    "    return fat\n",
    "\n",
    "factorials = [factorial(i) for i in range(10)]\n",
    "\n",
    "curious_numbers = []\n",
    "n = 3\n",
    "\n",
    "while n <= 40600:\n",
    "    string_number = str(n)\n",
    "    fat = 0\n",
    "    for i in string_number:\n",
    "        fat += factorials[int(i)]\n",
    "    if n == fat:\n",
    "        curious_numbers.append(n)\n",
    "    \n",
    "    n += 1\n",
    "\n",
    "print(curious_numbers)\n",
    "print(f'The sum of the numbers is: {sum(curious_numbers)}')"
   ]
  },
  {
   "cell_type": "markdown",
   "metadata": {},
   "source": [
    "5. \n",
    "\n",
    "The number, 197, is called a circular prime because all rotations of the digits: 197, 971, and 719, are themselves prime.\n",
    "\n",
    "There are thirteen such primes below 100: 2, 3, 5, 7, 11, 13, 17, 31, 37, 71, 73, 79, and 97.\n",
    "\n",
    "How many circular primes are there below one million?\n"
   ]
  },
  {
   "cell_type": "code",
   "execution_count": 8,
   "metadata": {},
   "outputs": [
    {
     "name": "stdout",
     "output_type": "stream",
     "text": [
      "There are 55 circular primes below one million\n",
      "[2, 3, 5, 7, 11, 13, 31, 17, 71, 37, 73, 79, 97, 113, 131, 311, 197, 971, 719, 199, 991, 919, 337, 373, 733, 1193, 1931, 9311, 3119, 3779, 7793, 7937, 9377, 11939, 19391, 93911, 39119, 91193, 19937, 99371, 93719, 37199, 71993, 193939, 939391, 393919, 939193, 391939, 919393, 199933, 999331, 993319, 933199, 331999, 319993]\n"
     ]
    }
   ],
   "source": [
    "def itsPrime(n):    \n",
    "    prime = True\n",
    "    for i in range(2, int(n**(1/2))+1):\n",
    "        if n%i == 0:\n",
    "            prime = False\n",
    "            break\n",
    "    \n",
    "    return prime\n",
    "\n",
    "def rotationDigits(n):    \n",
    "    str_number = str(n)\n",
    "    \n",
    "    if (n <= 11):\n",
    "        return []\n",
    "\n",
    "    else:\n",
    "        circular_numbers = []\n",
    "        \n",
    "        for i in range(len(str_number)-1):\n",
    "            str_number = ''.join([str_number[i+1] if i < (len(str_number)-1) else str_number[0] for i in range(len(str_number))])\n",
    "            circular_numbers.append(int(str_number))\n",
    "            \n",
    "        \n",
    "        return circular_numbers\n",
    "\n",
    "circular_primes = []\n",
    "\n",
    "for i in range(2, 1000000):\n",
    "    if i not in circular_primes:\n",
    "        if itsPrime(i):\n",
    "            itsCircularPrime = True\n",
    "            r_digits = rotationDigits(i)\n",
    "            \n",
    "            if len(r_digits) > 0:\n",
    "                for n in r_digits:\n",
    "                    if not itsPrime(n):\n",
    "                        itsCircularPrime = False\n",
    "                        break\n",
    "\n",
    "            if itsCircularPrime:\n",
    "                circular_primes.append(i)\n",
    "                for n in r_digits:\n",
    "                    circular_primes.append(n)\n",
    "\n",
    "print(f'There are {len(circular_primes)} circular primes below one million')\n",
    "print(circular_primes)"
   ]
  },
  {
   "cell_type": "code",
   "execution_count": null,
   "metadata": {},
   "outputs": [],
   "source": []
  }
 ],
 "metadata": {
  "kernelspec": {
   "display_name": "Python 3 (ipykernel)",
   "language": "python",
   "name": "python3"
  },
  "language_info": {
   "codemirror_mode": {
    "name": "ipython",
    "version": 3
   },
   "file_extension": ".py",
   "mimetype": "text/x-python",
   "name": "python",
   "nbconvert_exporter": "python",
   "pygments_lexer": "ipython3",
   "version": "3.9.13"
  }
 },
 "nbformat": 4,
 "nbformat_minor": 2
}
