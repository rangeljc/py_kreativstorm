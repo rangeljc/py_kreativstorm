{
 "cells": [
  {
   "cell_type": "code",
   "execution_count": 59,
   "id": "4ae1bb56",
   "metadata": {},
   "outputs": [],
   "source": [
    "lista1 = ['a', 'b', 'c']\n",
    "lista2 = ['d', 'e', 'f']"
   ]
  },
  {
   "cell_type": "code",
   "execution_count": 60,
   "id": "5eb5529b",
   "metadata": {},
   "outputs": [],
   "source": [
    "lista = []"
   ]
  },
  {
   "cell_type": "code",
   "execution_count": 61,
   "id": "05e46b25",
   "metadata": {},
   "outputs": [],
   "source": [
    "lista.append(lista1)"
   ]
  },
  {
   "cell_type": "code",
   "execution_count": 62,
   "id": "ef1bf47f",
   "metadata": {},
   "outputs": [
    {
     "data": {
      "text/plain": [
       "[['a', 'b', 'c']]"
      ]
     },
     "execution_count": 62,
     "metadata": {},
     "output_type": "execute_result"
    }
   ],
   "source": [
    "lista"
   ]
  },
  {
   "cell_type": "code",
   "execution_count": null,
   "id": "dc42d428",
   "metadata": {},
   "outputs": [],
   "source": []
  }
 ],
 "metadata": {
  "kernelspec": {
   "display_name": "Python 3 (ipykernel)",
   "language": "python",
   "name": "python3"
  },
  "language_info": {
   "codemirror_mode": {
    "name": "ipython",
    "version": 3
   },
   "file_extension": ".py",
   "mimetype": "text/x-python",
   "name": "python",
   "nbconvert_exporter": "python",
   "pygments_lexer": "ipython3",
   "version": "3.11.4"
  }
 },
 "nbformat": 4,
 "nbformat_minor": 5
}
