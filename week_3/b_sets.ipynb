{
 "cells": [
  {
   "cell_type": "markdown",
   "metadata": {},
   "source": [
    "1. Given two sets A and B, write a function to return the symmetric difference between them as a new set. The symmetric difference is the set of elements that are in either A or B, but not in both."
   ]
  },
  {
   "cell_type": "code",
   "execution_count": 4,
   "metadata": {},
   "outputs": [
    {
     "name": "stdout",
     "output_type": "stream",
     "text": [
      "{2, 4, 5, 6, 9, 11, 12, 23}\n"
     ]
    }
   ],
   "source": [
    "set_a = {1, 4, 7, 2, 12, 8}\n",
    "set_b = {1, 5, 7, 6, 23, 8, 9, 11}\n",
    "sym_set = set_a.symmetric_difference(set_b)\n",
    "\n",
    "print(sym_set)"
   ]
  },
  {
   "cell_type": "markdown",
   "metadata": {},
   "source": [
    "2. Given a list of numbers, write a function to return a set of all prime numbers from the list."
   ]
  },
  {
   "cell_type": "code",
   "execution_count": 25,
   "metadata": {},
   "outputs": [
    {
     "name": "stdout",
     "output_type": "stream",
     "text": [
      "{769, 223, 293, 197, 647, 233, 491, 107, 719, 751, 499, 149, 157, 383}\n"
     ]
    }
   ],
   "source": [
    "from random import randint\n",
    "\n",
    "def primes(nmb):\n",
    "    list_primes = []\n",
    "    \n",
    "    for n in nmb:\n",
    "        if n > 1:\n",
    "            itsprime = True\n",
    "            for i in range(2, int(n**(1/2))+1):\n",
    "                if n%i == 0:\n",
    "                    itsprime = False\n",
    "            if itsprime:\n",
    "                list_primes.append(n)\n",
    "\n",
    "    return set(list_primes)\n",
    "\n",
    "numbers = [randint(1,1000) for n in range(1, 100)]\n",
    "\n",
    "print(primes(numbers))"
   ]
  },
  {
   "cell_type": "markdown",
   "metadata": {},
   "source": [
    "3. Given a list of words, write a function to return a set of all anagrams in the list."
   ]
  },
  {
   "cell_type": "code",
   "execution_count": 48,
   "metadata": {},
   "outputs": [
    {
     "name": "stdout",
     "output_type": "stream",
     "text": [
      "240 {'eaomg', 'omaeg', 'pelap', 'gaoem', 'aemog', 'nnabaa', 'emago', 'appel', 'eppal', 'aogme', 'geamo', 'annaba', 'agemo', 'oamge', 'ogmae', 'oegma', 'abnnaa', 'lpepa', 'moeag', 'aplep', 'anbaan', 'aanbna', 'ogeam', 'abaann', 'mgeoa', 'oemag', 'banaan', 'omgea', 'moage', 'aemgo', 'ogmea', 'oagem', 'ogema', 'egoma', 'pelpa', 'geoma', 'ananab', 'emgao', 'moaeg', 'plpea', 'maego', 'geoam', 'eoagm', 'aegmo', 'nbaaan', 'megao', 'baanna', 'apelp', 'naaban', 'pplea', 'gaeom', 'abnaan', 'mgaoe', 'elpap', 'ananba', 'maoge', 'ppeal', 'naabna', 'eamog', 'bnnaaa', 'aelpp', 'goeam', 'omeag', 'aogem', 'lepap', 'lpeap', 'baaann', 'geaom', 'oegam', 'eomga', 'nbaana', 'mgaeo', 'bnaaan', 'eaplp', 'aabann', 'apple', 'emoga', 'gmaoe', 'paple', 'aaabnn', 'gmaeo', 'nnbaaa', 'alepp', 'nabaan', 'meoga', 'aannab', 'mgoae', 'lappe', 'paelp', 'lpaep', 'agome', 'amoge', 'ageom', 'egamo', 'oaemg', 'oagme', 'mgeao', 'aomge', 'eagom', 'aannba', 'aeppl', 'emoag', 'nbanaa', 'apepl', 'leppa', 'egaom', 'eogma', 'oeamg', 'megoa', 'anbnaa', 'aabnan', 'aplpe', 'gameo', 'naanba', 'alpep', 'papel', 'gemoa', 'goema', 'bannaa', 'nabana', 'naaanb', 'aomeg', 'ealpp', 'bnaana', 'eplpa', 'meoag', 'oameg', 'magoe', 'gaome', 'agmoe', 'aeogm', 'gamoe', 'gomea', 'oaegm', 'omega', 'omage', 'baanan', 'mgoea', 'amoeg', 'pplae', 'aegom', 'omgae', 'agmeo', 'aeplp', 'plaep', 'lapep', 'mageo', 'laepp', 'elapp', 'lppea', 'nanaab', 'eogam', 'oeagm', 'anaban', 'banana', 'gaemo', 'nnaaba', 'emaog', 'gmoea', 'nnaaab', 'maeog', 'mogae', 'lpape', 'gomae', 'ppael', 'nanaba', 'aananb', 'naanab', 'eappl', 'anabna', 'lppae', 'nabnaa', 'plape', 'aanban', 'goame', 'eplap', 'aoegm', 'eamgo', 'bnanaa', 'amgeo', 'naaabn', 'alppe', 'annbaa', 'goaem', 'paepl', 'eagmo', 'abanna', 'anbana', 'pepal', 'annaab', 'eoamg', 'abanan', 'aabnna', 'egmao', 'pealp', 'egoam', 'anaanb', 'ogame', 'amego', 'oemga', 'aanabn', 'emgoa', 'amgoe', 'ppela', 'aeomg', 'peapl', 'pleap', 'mogea', 'eppla', 'epapl', 'palpe', 'anaabn', 'nanbaa', 'gemao', 'gmeao', 'nbnaaa', 'abnana', 'agoem', 'meago', 'moega', 'ogaem', 'gmoae', 'pepla', 'meaog', 'ameog', 'palep', 'plepa', 'aaanbn', 'plpae', 'eaogm', 'eomag', 'maoeg', 'aaannb', 'ppale', 'epalp', 'leapp', 'egmoa', 'gmeoa', 'aoemg', 'elppa'} <class 'set'>\n"
     ]
    }
   ],
   "source": [
    "def getAnagrams(word):\n",
    "    if len(word) <=1:\n",
    "        return word\n",
    "    else:\n",
    "        anagrams = []\n",
    "        for x in getAnagrams(word[1:]):\n",
    "            for i in range(len(word)):\n",
    "                anagrams.append(x[:i] + word[0:1] + x[i:])\n",
    "        return sorted(anagrams)\n",
    "\n",
    "list_words = ['apple', 'banana', 'omega']\n",
    "all_anagrams = {anagram for word in list_words for anagram in getAnagrams(word)}\n",
    "\n",
    "print(len(all_anagrams), all_anagrams, type(all_anagrams))"
   ]
  },
  {
   "cell_type": "markdown",
   "metadata": {},
   "source": [
    "4. Given a list of sets, write a function to return the Cartesian product of all sets in the list."
   ]
  },
  {
   "cell_type": "code",
   "execution_count": 50,
   "metadata": {},
   "outputs": [
    {
     "name": "stdout",
     "output_type": "stream",
     "text": [
      "[(1, 1), (1, 5), (1, 6), (1, 7), (1, 8), (1, 9), (1, 11), (1, 23), (2, 1), (2, 5), (2, 6), (2, 7), (2, 8), (2, 9), (2, 11), (2, 23), (4, 1), (4, 5), (4, 6), (4, 7), (4, 8), (4, 9), (4, 11), (4, 23), (7, 1), (7, 5), (7, 6), (7, 7), (7, 8), (7, 9), (7, 11), (7, 23), (8, 1), (8, 5), (8, 6), (8, 7), (8, 8), (8, 9), (8, 11), (8, 23), (12, 1), (12, 5), (12, 6), (12, 7), (12, 8), (12, 9), (12, 11), (12, 23)]\n"
     ]
    }
   ],
   "source": [
    "def cartesianProduct(sets):\n",
    "    if len(sets) < 2:\n",
    "        return sets\n",
    "    else:\n",
    "        cp = []\n",
    "        for i in sets[0]:\n",
    "            for j in sets[1]:\n",
    "                cp.append((i, j)) #print(\"{\",i,\", \",j,\"}, \",sep=\"\",end=\"\")\n",
    "        return cp\n",
    "\n",
    "list_sets = [{1, 2, 4, 7, 8, 12}, {1, 5, 6, 7, 8, 9, 11, 23}]\n",
    "\n",
    "print(cartesianProduct(list_sets))"
   ]
  },
  {
   "cell_type": "code",
   "execution_count": null,
   "metadata": {},
   "outputs": [],
   "source": []
  }
 ],
 "metadata": {
  "kernelspec": {
   "display_name": "Python 3 (ipykernel)",
   "language": "python",
   "name": "python3"
  },
  "language_info": {
   "codemirror_mode": {
    "name": "ipython",
    "version": 3
   },
   "file_extension": ".py",
   "mimetype": "text/x-python",
   "name": "python",
   "nbconvert_exporter": "python",
   "pygments_lexer": "ipython3",
   "version": "3.11.4"
  },
  "vscode": {
   "interpreter": {
    "hash": "f7a5be651532581cb44625d52e18aa1d390cab54bc6b51099d8c30bea9b68219"
   }
  }
 },
 "nbformat": 4,
 "nbformat_minor": 2
}
