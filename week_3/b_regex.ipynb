{
 "cells": [
  {
   "cell_type": "markdown",
   "metadata": {},
   "source": [
    "1.  Write a regular expression that matches a date in the format dd/mm/yyyy. For example, the string \"01/01/2021\" should match."
   ]
  },
  {
   "cell_type": "code",
   "execution_count": 32,
   "metadata": {},
   "outputs": [
    {
     "name": "stdout",
     "output_type": "stream",
     "text": [
      "['01/01/2021']\n"
     ]
    }
   ],
   "source": [
    "import re\n",
    "\n",
    "date = '01/01/2021'\n",
    "\n",
    "x = re.findall(r'^(\\d\\d/\\d\\d/\\d\\d\\d\\d$)', date)\n",
    "\n",
    "if x == []:\n",
    "    print(\"The string doesn't match with a date format\")\n",
    "else:\n",
    "    print(x)"
   ]
  },
  {
   "cell_type": "markdown",
   "metadata": {},
   "source": [
    "2. Write a regular expression that matches a phone number in the format xxx-xxx-xxxx, where x is a digit. For example, the string \"123-456-7890\" should match."
   ]
  },
  {
   "cell_type": "code",
   "execution_count": 39,
   "metadata": {},
   "outputs": [
    {
     "name": "stdout",
     "output_type": "stream",
     "text": [
      "The string doesn't match with a phone number format\n"
     ]
    }
   ],
   "source": [
    "import re\n",
    "\n",
    "phone = '055-094-2021'\n",
    "\n",
    "x = re.findall(r'^(\\d\\d\\d-\\d\\d\\d-\\d\\d\\d\\d$)', phone)\n",
    "\n",
    "if x == []:\n",
    "    print(\"The string doesn't match with a phone number format\")\n",
    "else:\n",
    "    print(x)"
   ]
  },
  {
   "cell_type": "markdown",
   "metadata": {},
   "source": [
    "3. Write a regular expression that matches a valid email address. For example, the string \"example@example.com\" should match."
   ]
  },
  {
   "cell_type": "code",
   "execution_count": 47,
   "metadata": {},
   "outputs": [
    {
     "name": "stdout",
     "output_type": "stream",
     "text": [
      "['exampleeee@example.com']\n"
     ]
    }
   ],
   "source": [
    "import re\n",
    "\n",
    "e_mail = 'example@example.com'\n",
    "\n",
    "x = re.findall(r'^(\\w+@\\w+.com$)', e_mail)\n",
    "\n",
    "if x == []:\n",
    "    print(\"The string doesn't match with an e-mail format\")\n",
    "else:\n",
    "    print(x)"
   ]
  },
  {
   "cell_type": "markdown",
   "metadata": {},
   "source": [
    "4. Write a regular expression that matches a string that starts with a word, followed by one or more whitespace characters, followed by another word. For example, the string \"hello world\" should match."
   ]
  },
  {
   "cell_type": "code",
   "execution_count": 55,
   "metadata": {},
   "outputs": [
    {
     "name": "stdout",
     "output_type": "stream",
     "text": [
      "['hello world']\n"
     ]
    }
   ],
   "source": [
    "import re\n",
    "\n",
    "string = 'hello world'\n",
    "\n",
    "x = re.findall(r'^\\S\\D+\\s+\\D+\\S$', string)\n",
    "\n",
    "if x == []:\n",
    "    print(\"The string doesn't match with a normal string format\")\n",
    "else:\n",
    "    print(x)"
   ]
  },
  {
   "cell_type": "markdown",
   "metadata": {},
   "source": [
    "5. Write a regular expression that matches a string that contains a number with exactly two decimal places. For example, the string \"1.23\" should match, but the string \"1.234\" should not match."
   ]
  },
  {
   "cell_type": "code",
   "execution_count": 66,
   "metadata": {},
   "outputs": [
    {
     "name": "stdout",
     "output_type": "stream",
     "text": [
      "['1.23']\n"
     ]
    }
   ],
   "source": [
    "import re\n",
    "\n",
    "number = '1.23'\n",
    "\n",
    "x = re.findall(r'^\\d+.\\d\\d$', number)\n",
    "\n",
    "if x == []:\n",
    "    print(\"The string doesn't match with a number with exactly two decimal places!\")\n",
    "else:\n",
    "    print(x)"
   ]
  },
  {
   "cell_type": "code",
   "execution_count": null,
   "metadata": {},
   "outputs": [],
   "source": []
  }
 ],
 "metadata": {
  "kernelspec": {
   "display_name": "Python 3 (ipykernel)",
   "language": "python",
   "name": "python3"
  },
  "language_info": {
   "codemirror_mode": {
    "name": "ipython",
    "version": 3
   },
   "file_extension": ".py",
   "mimetype": "text/x-python",
   "name": "python",
   "nbconvert_exporter": "python",
   "pygments_lexer": "ipython3",
   "version": "3.9.13"
  },
  "vscode": {
   "interpreter": {
    "hash": "f7a5be651532581cb44625d52e18aa1d390cab54bc6b51099d8c30bea9b68219"
   }
  }
 },
 "nbformat": 4,
 "nbformat_minor": 2
}
