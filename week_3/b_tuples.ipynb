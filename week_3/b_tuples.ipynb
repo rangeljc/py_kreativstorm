{
 "cells": [
  {
   "cell_type": "markdown",
   "metadata": {},
   "source": [
    "1. Write a function to find the most common elements in a tuple."
   ]
  },
  {
   "cell_type": "code",
   "execution_count": 1,
   "metadata": {},
   "outputs": [
    {
     "name": "stdout",
     "output_type": "stream",
     "text": [
      "(1, 3)\n"
     ]
    }
   ],
   "source": [
    "def mostCommonElements(tup):\n",
    "    freq = 0\n",
    "    \n",
    "    for n in set(tup):\n",
    "        if  tup.count(n) > freq:\n",
    "            freq = tup.count(n)\n",
    "            mc_element = (n, freq)\n",
    "    \n",
    "    return mc_element\n",
    "\n",
    "elements = (1, 2, 6, 4, 8, 4, 8, 3, 5, 7, 9, 2, 1, 1)\n",
    "print(mostCommonElements(elements))"
   ]
  },
  {
   "cell_type": "markdown",
   "metadata": {},
   "source": [
    "2. Write a function to check if a given tuple is a palindrome, meaning the elements are the same in reverse order."
   ]
  },
  {
   "cell_type": "code",
   "execution_count": 4,
   "metadata": {},
   "outputs": [
    {
     "name": "stdout",
     "output_type": "stream",
     "text": [
      "Yeah! this is a palindrome tuple\n"
     ]
    }
   ],
   "source": [
    "def isItPalindrome(tup):    \n",
    "    if tup == tup[::-1]:\n",
    "        return True\n",
    "    return False\n",
    "\n",
    "#given_tuple = (1, 2, 6, 4, 8, 4, 8, 3, 5, 7, 9, 2, 1, 1)\n",
    "#given_tuple = (1, 2, 3, 2, 1)\n",
    "\n",
    "if isItPalindrome(given_tuple):\n",
    "    print('Yeah! this is a palindrome tuple')\n",
    "else:\n",
    "    print('Oh no! this is not a palindrome tuple')"
   ]
  },
  {
   "cell_type": "markdown",
   "metadata": {},
   "source": [
    "3. Write a function to find the frequency of elements in a tuple, and return a dictionary mapping each element to its frequency."
   ]
  },
  {
   "cell_type": "code",
   "execution_count": 11,
   "metadata": {},
   "outputs": [
    {
     "name": "stdout",
     "output_type": "stream",
     "text": [
      "Frequency of (1) = 3\n",
      "Frequency of (2) = 2\n",
      "Frequency of (3) = 1\n",
      "Frequency of (4) = 2\n",
      "Frequency of (5) = 1\n",
      "Frequency of (6) = 1\n",
      "Frequency of (7) = 1\n",
      "Frequency of (8) = 2\n",
      "Frequency of (9) = 1\n"
     ]
    }
   ],
   "source": [
    "def frequencyElements(tup):\n",
    "    tp_frequency = {'Element': [], \n",
    "                   'Frequency': []}\n",
    "    \n",
    "    for n in set(tup):\n",
    "        tp_frequency['Element'].append(n)\n",
    "        tp_frequency['Frequency'].append(tup.count(n))\n",
    "    \n",
    "    return tp_frequency\n",
    "\n",
    "elements = (1, 2, 6, 4, 8, 4, 8, 3, 5, 7, 9, 2, 1, 1)\n",
    "\n",
    "frequency = frequencyElements(elements)\n",
    "\n",
    "for i in range(len(frequency['Element'])):\n",
    "    print(f\"Frequency of ({frequency['Element'][i]}) = {frequency['Frequency'][i]}\")"
   ]
  },
  {
   "cell_type": "markdown",
   "metadata": {},
   "source": [
    "4. Write a function that takes a tuple as an argument and returns a new tuple with only the even elements from the original tuple."
   ]
  },
  {
   "cell_type": "code",
   "execution_count": 16,
   "metadata": {},
   "outputs": [
    {
     "name": "stdout",
     "output_type": "stream",
     "text": [
      "(2, 6, 4, 8, 4, 8, 2)\n"
     ]
    }
   ],
   "source": [
    "def evenElements(tup):\n",
    "    evens = ()\n",
    "    for e in tup:\n",
    "        if (e%2 == 0):\n",
    "            evens += (e,)\n",
    "    return evens\n",
    "\n",
    "elements = (1, 2, 6, 4, 8, 4, 8, 3, 5, 7, 9, 2, 1, 1)\n",
    "\n",
    "print(evenElements(elements))"
   ]
  },
  {
   "cell_type": "markdown",
   "metadata": {},
   "source": [
    "5. Write a function to find all unique elements in a tuple and return them in a new tuple."
   ]
  },
  {
   "cell_type": "code",
   "execution_count": 17,
   "metadata": {},
   "outputs": [
    {
     "name": "stdout",
     "output_type": "stream",
     "text": [
      "(6, 3, 5, 7, 9)\n"
     ]
    }
   ],
   "source": [
    "def uniqueElements(tup):\n",
    "    uniques = ()\n",
    "    for e in tup:\n",
    "        if tup.count(e) == 1:\n",
    "            uniques += (e,)\n",
    "    return uniques\n",
    "\n",
    "elements = (1, 2, 6, 4, 8, 4, 8, 3, 5, 7, 9, 2, 1, 1)\n",
    "\n",
    "print(uniqueElements(elements))"
   ]
  },
  {
   "cell_type": "code",
   "execution_count": null,
   "metadata": {},
   "outputs": [],
   "source": []
  }
 ],
 "metadata": {
  "kernelspec": {
   "display_name": "Python 3 (ipykernel)",
   "language": "python",
   "name": "python3"
  },
  "language_info": {
   "codemirror_mode": {
    "name": "ipython",
    "version": 3
   },
   "file_extension": ".py",
   "mimetype": "text/x-python",
   "name": "python",
   "nbconvert_exporter": "python",
   "pygments_lexer": "ipython3",
   "version": "3.9.13"
  },
  "vscode": {
   "interpreter": {
    "hash": "f7a5be651532581cb44625d52e18aa1d390cab54bc6b51099d8c30bea9b68219"
   }
  }
 },
 "nbformat": 4,
 "nbformat_minor": 2
}
